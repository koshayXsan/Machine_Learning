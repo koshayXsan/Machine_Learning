{
 "cells": [
  {
   "cell_type": "markdown",
   "id": "8dc4ef4f",
   "metadata": {
    "_cell_guid": "b1076dfc-b9ad-4769-8c92-a6c4dae69d19",
    "_uuid": "8f2839f25d086af736a60e9eeb907d3b93b6e0e5",
    "execution": {
     "iopub.execute_input": "2024-04-25T04:43:28.243902Z",
     "iopub.status.busy": "2024-04-25T04:43:28.242915Z",
     "iopub.status.idle": "2024-04-25T04:43:28.281083Z",
     "shell.execute_reply": "2024-04-25T04:43:28.279902Z",
     "shell.execute_reply.started": "2024-04-25T04:43:28.243786Z"
    },
    "papermill": {
     "duration": 0.052397,
     "end_time": "2024-04-25T17:15:35.755999",
     "exception": false,
     "start_time": "2024-04-25T17:15:35.703602",
     "status": "completed"
    },
    "tags": []
   },
   "source": [
    "##### import numpy as np # linear algebra\n",
    "import pandas as pd # data processing, CSV file I/O (e.g. pd.read_csv)\n",
    "\n",
    "import os\n",
    "for dirname, _, filenames in os.walk('/kaggle/input'):\n",
    "    for filename in filenames:\n",
    "        print(os.path.join(dirname, filename))"
   ]
  },
  {
   "cell_type": "markdown",
   "id": "babd0647",
   "metadata": {
    "papermill": {
     "duration": 0.050117,
     "end_time": "2024-04-25T17:15:35.853992",
     "exception": false,
     "start_time": "2024-04-25T17:15:35.803875",
     "status": "completed"
    },
    "tags": []
   },
   "source": [
    "# Problem Statement and Business Case"
   ]
  },
  {
   "cell_type": "code",
   "execution_count": 1,
   "id": "a027f7de",
   "metadata": {
    "execution": {
     "iopub.execute_input": "2024-04-25T17:15:35.957569Z",
     "iopub.status.busy": "2024-04-25T17:15:35.956316Z",
     "iopub.status.idle": "2024-04-25T17:15:35.958829Z",
     "shell.execute_reply": "2024-04-25T17:15:35.960628Z",
     "shell.execute_reply.started": "2024-04-25T16:48:24.893555Z"
    },
    "papermill": {
     "duration": 0.057808,
     "end_time": "2024-04-25T17:15:35.960963",
     "exception": false,
     "start_time": "2024-04-25T17:15:35.903155",
     "status": "completed"
    },
    "tags": []
   },
   "outputs": [],
   "source": [
    "# NLP (Natural Language Processing) works by converting words (texts) into numbers \n",
    "# These numbers are then used to train the Machine Learning Models to make Predictions\n",
    "# This AI/ML model is crucial for companies to detect their customer reviews fast and efficiently\n",
    "# The dataset contains 1000's of tweets and detects tweet as positive (1) or negative (0)"
   ]
  },
  {
   "cell_type": "markdown",
   "id": "92a8d2ba",
   "metadata": {
    "papermill": {
     "duration": 0.048071,
     "end_time": "2024-04-25T17:15:36.059429",
     "exception": false,
     "start_time": "2024-04-25T17:15:36.011358",
     "status": "completed"
    },
    "tags": []
   },
   "source": [
    "# Importing Libraries and Dataset"
   ]
  },
  {
   "cell_type": "code",
   "execution_count": 2,
   "id": "67728917",
   "metadata": {
    "execution": {
     "iopub.execute_input": "2024-04-25T17:15:36.169492Z",
     "iopub.status.busy": "2024-04-25T17:15:36.168012Z",
     "iopub.status.idle": "2024-04-25T17:15:38.107575Z",
     "shell.execute_reply": "2024-04-25T17:15:38.106284Z",
     "shell.execute_reply.started": "2024-04-25T16:48:24.921848Z"
    },
    "papermill": {
     "duration": 1.998908,
     "end_time": "2024-04-25T17:15:38.107778",
     "exception": false,
     "start_time": "2024-04-25T17:15:36.108870",
     "status": "completed"
    },
    "tags": []
   },
   "outputs": [],
   "source": [
    "import pandas as pd\n",
    "import numpy as np\n",
    "import seaborn as sns\n",
    "import matplotlib.pyplot as plt\n",
    "import nltk # Natural Language tool kit "
   ]
  },
  {
   "cell_type": "code",
   "execution_count": 3,
   "id": "47229468",
   "metadata": {
    "execution": {
     "iopub.execute_input": "2024-04-25T17:15:38.211096Z",
     "iopub.status.busy": "2024-04-25T17:15:38.210323Z",
     "iopub.status.idle": "2024-04-25T17:15:38.349281Z",
     "shell.execute_reply": "2024-04-25T17:15:38.349816Z",
     "shell.execute_reply.started": "2024-04-25T16:48:26.993342Z"
    },
    "papermill": {
     "duration": 0.193341,
     "end_time": "2024-04-25T17:15:38.350051",
     "exception": false,
     "start_time": "2024-04-25T17:15:38.156710",
     "status": "completed"
    },
    "tags": []
   },
   "outputs": [],
   "source": [
    "# Load the data\n",
    "data=pd.read_csv('../input/twitter-analysis-dataset-2022/twitter.csv')"
   ]
  },
  {
   "cell_type": "code",
   "execution_count": 4,
   "id": "87a589e7",
   "metadata": {
    "execution": {
     "iopub.execute_input": "2024-04-25T17:15:38.453812Z",
     "iopub.status.busy": "2024-04-25T17:15:38.452733Z",
     "iopub.status.idle": "2024-04-25T17:15:38.496390Z",
     "shell.execute_reply": "2024-04-25T17:15:38.496906Z",
     "shell.execute_reply.started": "2024-04-25T16:48:27.157081Z"
    },
    "papermill": {
     "duration": 0.09595,
     "end_time": "2024-04-25T17:15:38.497112",
     "exception": false,
     "start_time": "2024-04-25T17:15:38.401162",
     "status": "completed"
    },
    "tags": []
   },
   "outputs": [
    {
     "name": "stdout",
     "output_type": "stream",
     "text": [
      "<class 'pandas.core.frame.DataFrame'>\n",
      "RangeIndex: 31962 entries, 0 to 31961\n",
      "Data columns (total 3 columns):\n",
      " #   Column  Non-Null Count  Dtype \n",
      "---  ------  --------------  ----- \n",
      " 0   id      31962 non-null  int64 \n",
      " 1   label   31962 non-null  int64 \n",
      " 2   tweet   31962 non-null  object\n",
      "dtypes: int64(2), object(1)\n",
      "memory usage: 749.2+ KB\n"
     ]
    },
    {
     "data": {
      "text/html": [
       "<div>\n",
       "<style scoped>\n",
       "    .dataframe tbody tr th:only-of-type {\n",
       "        vertical-align: middle;\n",
       "    }\n",
       "\n",
       "    .dataframe tbody tr th {\n",
       "        vertical-align: top;\n",
       "    }\n",
       "\n",
       "    .dataframe thead th {\n",
       "        text-align: right;\n",
       "    }\n",
       "</style>\n",
       "<table border=\"1\" class=\"dataframe\">\n",
       "  <thead>\n",
       "    <tr style=\"text-align: right;\">\n",
       "      <th></th>\n",
       "      <th>id</th>\n",
       "      <th>label</th>\n",
       "      <th>tweet</th>\n",
       "    </tr>\n",
       "  </thead>\n",
       "  <tbody>\n",
       "    <tr>\n",
       "      <th>0</th>\n",
       "      <td>1</td>\n",
       "      <td>0</td>\n",
       "      <td>@user when a father is dysfunctional and is s...</td>\n",
       "    </tr>\n",
       "    <tr>\n",
       "      <th>1</th>\n",
       "      <td>2</td>\n",
       "      <td>0</td>\n",
       "      <td>@user @user thanks for #lyft credit i can't us...</td>\n",
       "    </tr>\n",
       "    <tr>\n",
       "      <th>2</th>\n",
       "      <td>3</td>\n",
       "      <td>0</td>\n",
       "      <td>bihday your majesty</td>\n",
       "    </tr>\n",
       "    <tr>\n",
       "      <th>3</th>\n",
       "      <td>4</td>\n",
       "      <td>0</td>\n",
       "      <td>#model   i love u take with u all the time in ...</td>\n",
       "    </tr>\n",
       "    <tr>\n",
       "      <th>4</th>\n",
       "      <td>5</td>\n",
       "      <td>0</td>\n",
       "      <td>factsguide: society now    #motivation</td>\n",
       "    </tr>\n",
       "    <tr>\n",
       "      <th>...</th>\n",
       "      <td>...</td>\n",
       "      <td>...</td>\n",
       "      <td>...</td>\n",
       "    </tr>\n",
       "    <tr>\n",
       "      <th>31957</th>\n",
       "      <td>31958</td>\n",
       "      <td>0</td>\n",
       "      <td>ate @user isz that youuu?ðððððð...</td>\n",
       "    </tr>\n",
       "    <tr>\n",
       "      <th>31958</th>\n",
       "      <td>31959</td>\n",
       "      <td>0</td>\n",
       "      <td>to see nina turner on the airwaves trying to...</td>\n",
       "    </tr>\n",
       "    <tr>\n",
       "      <th>31959</th>\n",
       "      <td>31960</td>\n",
       "      <td>0</td>\n",
       "      <td>listening to sad songs on a monday morning otw...</td>\n",
       "    </tr>\n",
       "    <tr>\n",
       "      <th>31960</th>\n",
       "      <td>31961</td>\n",
       "      <td>1</td>\n",
       "      <td>@user #sikh #temple vandalised in in #calgary,...</td>\n",
       "    </tr>\n",
       "    <tr>\n",
       "      <th>31961</th>\n",
       "      <td>31962</td>\n",
       "      <td>0</td>\n",
       "      <td>thank you @user for you follow</td>\n",
       "    </tr>\n",
       "  </tbody>\n",
       "</table>\n",
       "<p>31962 rows × 3 columns</p>\n",
       "</div>"
      ],
      "text/plain": [
       "          id  label                                              tweet\n",
       "0          1      0   @user when a father is dysfunctional and is s...\n",
       "1          2      0  @user @user thanks for #lyft credit i can't us...\n",
       "2          3      0                                bihday your majesty\n",
       "3          4      0  #model   i love u take with u all the time in ...\n",
       "4          5      0             factsguide: society now    #motivation\n",
       "...      ...    ...                                                ...\n",
       "31957  31958      0  ate @user isz that youuu?ðððððð...\n",
       "31958  31959      0    to see nina turner on the airwaves trying to...\n",
       "31959  31960      0  listening to sad songs on a monday morning otw...\n",
       "31960  31961      1  @user #sikh #temple vandalised in in #calgary,...\n",
       "31961  31962      0                   thank you @user for you follow  \n",
       "\n",
       "[31962 rows x 3 columns]"
      ]
     },
     "execution_count": 4,
     "metadata": {},
     "output_type": "execute_result"
    }
   ],
   "source": [
    "data.info()\n",
    "data"
   ]
  },
  {
   "cell_type": "code",
   "execution_count": 5,
   "id": "f941d454",
   "metadata": {
    "execution": {
     "iopub.execute_input": "2024-04-25T17:15:38.605786Z",
     "iopub.status.busy": "2024-04-25T17:15:38.604715Z",
     "iopub.status.idle": "2024-04-25T17:15:38.621304Z",
     "shell.execute_reply": "2024-04-25T17:15:38.622049Z",
     "shell.execute_reply.started": "2024-04-25T16:48:27.207432Z"
    },
    "papermill": {
     "duration": 0.075909,
     "end_time": "2024-04-25T17:15:38.622274",
     "exception": false,
     "start_time": "2024-04-25T17:15:38.546365",
     "status": "completed"
    },
    "tags": []
   },
   "outputs": [
    {
     "data": {
      "text/html": [
       "<div>\n",
       "<style scoped>\n",
       "    .dataframe tbody tr th:only-of-type {\n",
       "        vertical-align: middle;\n",
       "    }\n",
       "\n",
       "    .dataframe tbody tr th {\n",
       "        vertical-align: top;\n",
       "    }\n",
       "\n",
       "    .dataframe thead th {\n",
       "        text-align: right;\n",
       "    }\n",
       "</style>\n",
       "<table border=\"1\" class=\"dataframe\">\n",
       "  <thead>\n",
       "    <tr style=\"text-align: right;\">\n",
       "      <th></th>\n",
       "      <th>id</th>\n",
       "      <th>label</th>\n",
       "    </tr>\n",
       "  </thead>\n",
       "  <tbody>\n",
       "    <tr>\n",
       "      <th>count</th>\n",
       "      <td>31962.000000</td>\n",
       "      <td>31962.000000</td>\n",
       "    </tr>\n",
       "    <tr>\n",
       "      <th>mean</th>\n",
       "      <td>15981.500000</td>\n",
       "      <td>0.070146</td>\n",
       "    </tr>\n",
       "    <tr>\n",
       "      <th>std</th>\n",
       "      <td>9226.778988</td>\n",
       "      <td>0.255397</td>\n",
       "    </tr>\n",
       "    <tr>\n",
       "      <th>min</th>\n",
       "      <td>1.000000</td>\n",
       "      <td>0.000000</td>\n",
       "    </tr>\n",
       "    <tr>\n",
       "      <th>25%</th>\n",
       "      <td>7991.250000</td>\n",
       "      <td>0.000000</td>\n",
       "    </tr>\n",
       "    <tr>\n",
       "      <th>50%</th>\n",
       "      <td>15981.500000</td>\n",
       "      <td>0.000000</td>\n",
       "    </tr>\n",
       "    <tr>\n",
       "      <th>75%</th>\n",
       "      <td>23971.750000</td>\n",
       "      <td>0.000000</td>\n",
       "    </tr>\n",
       "    <tr>\n",
       "      <th>max</th>\n",
       "      <td>31962.000000</td>\n",
       "      <td>1.000000</td>\n",
       "    </tr>\n",
       "  </tbody>\n",
       "</table>\n",
       "</div>"
      ],
      "text/plain": [
       "                 id         label\n",
       "count  31962.000000  31962.000000\n",
       "mean   15981.500000      0.070146\n",
       "std     9226.778988      0.255397\n",
       "min        1.000000      0.000000\n",
       "25%     7991.250000      0.000000\n",
       "50%    15981.500000      0.000000\n",
       "75%    23971.750000      0.000000\n",
       "max    31962.000000      1.000000"
      ]
     },
     "execution_count": 5,
     "metadata": {},
     "output_type": "execute_result"
    }
   ],
   "source": [
    "data.describe()"
   ]
  },
  {
   "cell_type": "code",
   "execution_count": 6,
   "id": "2de402ba",
   "metadata": {
    "execution": {
     "iopub.execute_input": "2024-04-25T17:15:38.732033Z",
     "iopub.status.busy": "2024-04-25T17:15:38.731321Z",
     "iopub.status.idle": "2024-04-25T17:15:38.735339Z",
     "shell.execute_reply": "2024-04-25T17:15:38.734743Z",
     "shell.execute_reply.started": "2024-04-25T16:48:27.233275Z"
    },
    "papermill": {
     "duration": 0.061667,
     "end_time": "2024-04-25T17:15:38.735501",
     "exception": false,
     "start_time": "2024-04-25T17:15:38.673834",
     "status": "completed"
    },
    "tags": []
   },
   "outputs": [
    {
     "data": {
      "text/plain": [
       "0         @user when a father is dysfunctional and is s...\n",
       "1        @user @user thanks for #lyft credit i can't us...\n",
       "2                                      bihday your majesty\n",
       "3        #model   i love u take with u all the time in ...\n",
       "4                   factsguide: society now    #motivation\n",
       "                               ...                        \n",
       "31957    ate @user isz that youuu?ðððððð...\n",
       "31958      to see nina turner on the airwaves trying to...\n",
       "31959    listening to sad songs on a monday morning otw...\n",
       "31960    @user #sikh #temple vandalised in in #calgary,...\n",
       "31961                     thank you @user for you follow  \n",
       "Name: tweet, Length: 31962, dtype: object"
      ]
     },
     "execution_count": 6,
     "metadata": {},
     "output_type": "execute_result"
    }
   ],
   "source": [
    "data['tweet']"
   ]
  },
  {
   "cell_type": "code",
   "execution_count": 7,
   "id": "6b3b6a86",
   "metadata": {
    "execution": {
     "iopub.execute_input": "2024-04-25T17:15:38.846445Z",
     "iopub.status.busy": "2024-04-25T17:15:38.845074Z",
     "iopub.status.idle": "2024-04-25T17:15:38.849536Z",
     "shell.execute_reply": "2024-04-25T17:15:38.848818Z",
     "shell.execute_reply.started": "2024-04-25T16:48:27.243992Z"
    },
    "papermill": {
     "duration": 0.062398,
     "end_time": "2024-04-25T17:15:38.849702",
     "exception": false,
     "start_time": "2024-04-25T17:15:38.787304",
     "status": "completed"
    },
    "tags": []
   },
   "outputs": [],
   "source": [
    "tweets_df=data\n",
    "\n",
    "# Drop the 'id' column\n",
    "tweets_df = tweets_df.drop(['id'], axis=1)"
   ]
  },
  {
   "cell_type": "markdown",
   "id": "9f943643",
   "metadata": {
    "papermill": {
     "duration": 0.051032,
     "end_time": "2024-04-25T17:15:38.951339",
     "exception": false,
     "start_time": "2024-04-25T17:15:38.900307",
     "status": "completed"
    },
    "tags": []
   },
   "source": [
    "# Exploring Dataset"
   ]
  },
  {
   "cell_type": "code",
   "execution_count": 8,
   "id": "0eadb7c5",
   "metadata": {
    "execution": {
     "iopub.execute_input": "2024-04-25T17:15:39.058203Z",
     "iopub.status.busy": "2024-04-25T17:15:39.057484Z",
     "iopub.status.idle": "2024-04-25T17:15:39.485749Z",
     "shell.execute_reply": "2024-04-25T17:15:39.485185Z",
     "shell.execute_reply.started": "2024-04-25T16:48:27.257758Z"
    },
    "papermill": {
     "duration": 0.483217,
     "end_time": "2024-04-25T17:15:39.485892",
     "exception": false,
     "start_time": "2024-04-25T17:15:39.002675",
     "status": "completed"
    },
    "tags": []
   },
   "outputs": [
    {
     "data": {
      "image/png": "[encoded data removed]",
      "text/plain": [
       "<Figure size 936x360 with 2 Axes>"
      ]
     },
     "metadata": {
      "needs_background": "light"
     },
     "output_type": "display_data"
    }
   ],
   "source": [
    "data.hist(bins = 30, figsize = (13,5), color = 'r')\n",
    "plt.show()"
   ]
  },
  {
   "cell_type": "code",
   "execution_count": 9,
   "id": "f07db0c5",
   "metadata": {
    "execution": {
     "iopub.execute_input": "2024-04-25T17:15:39.593198Z",
     "iopub.status.busy": "2024-04-25T17:15:39.592124Z",
     "iopub.status.idle": "2024-04-25T17:15:39.869269Z",
     "shell.execute_reply": "2024-04-25T17:15:39.869806Z",
     "shell.execute_reply.started": "2024-04-25T16:48:27.803363Z"
    },
    "papermill": {
     "duration": 0.333275,
     "end_time": "2024-04-25T17:15:39.870004",
     "exception": false,
     "start_time": "2024-04-25T17:15:39.536729",
     "status": "completed"
    },
    "tags": []
   },
   "outputs": [
    {
     "name": "stderr",
     "output_type": "stream",
     "text": [
      "/opt/conda/lib/python3.7/site-packages/seaborn/_decorators.py:43: FutureWarning: Pass the following variable as a keyword arg: x. From version 0.12, the only valid positional argument will be `data`, and passing other arguments without an explicit keyword will result in an error or misinterpretation.\n",
      "  FutureWarning\n"
     ]
    },
    {
     "data": {
      "image/png": "[encoded data removed]",
      "text/plain": [
       "<Figure size 432x288 with 1 Axes>"
      ]
     },
     "metadata": {
      "needs_background": "light"
     },
     "output_type": "display_data"
    }
   ],
   "source": [
    "sns.countplot(tweets_df['label'], label = \"Count\") \n",
    "plt.show()"
   ]
  },
  {
   "cell_type": "code",
   "execution_count": 10,
   "id": "28c7c6b6",
   "metadata": {
    "execution": {
     "iopub.execute_input": "2024-04-25T17:15:39.981542Z",
     "iopub.status.busy": "2024-04-25T17:15:39.980698Z",
     "iopub.status.idle": "2024-04-25T17:15:40.371908Z",
     "shell.execute_reply": "2024-04-25T17:15:40.371387Z",
     "shell.execute_reply.started": "2024-04-25T16:48:28.125743Z"
    },
    "papermill": {
     "duration": 0.446557,
     "end_time": "2024-04-25T17:15:40.372074",
     "exception": false,
     "start_time": "2024-04-25T17:15:39.925517",
     "status": "completed"
    },
    "tags": []
   },
   "outputs": [
    {
     "data": {
      "image/png": "[encoded data removed]",
      "text/plain": [
       "<Figure size 432x288 with 1 Axes>"
      ]
     },
     "metadata": {
      "needs_background": "light"
     },
     "output_type": "display_data"
    }
   ],
   "source": [
    "# Let's get the length of the messages\n",
    "tweets_df['length']=tweets_df['tweet'].apply(len)\n",
    "\n",
    "tweets_df['length'].plot(bins=100, kind='hist') \n",
    "plt.show()"
   ]
  },
  {
   "cell_type": "code",
   "execution_count": 11,
   "id": "543a7cf7",
   "metadata": {
    "execution": {
     "iopub.execute_input": "2024-04-25T17:15:40.487080Z",
     "iopub.status.busy": "2024-04-25T17:15:40.486318Z",
     "iopub.status.idle": "2024-04-25T17:15:40.505635Z",
     "shell.execute_reply": "2024-04-25T17:15:40.504889Z",
     "shell.execute_reply.started": "2024-04-25T16:48:28.565596Z"
    },
    "papermill": {
     "duration": 0.075528,
     "end_time": "2024-04-25T17:15:40.505791",
     "exception": false,
     "start_time": "2024-04-25T17:15:40.430263",
     "status": "completed"
    },
    "tags": []
   },
   "outputs": [
    {
     "data": {
      "text/html": [
       "<div>\n",
       "<style scoped>\n",
       "    .dataframe tbody tr th:only-of-type {\n",
       "        vertical-align: middle;\n",
       "    }\n",
       "\n",
       "    .dataframe tbody tr th {\n",
       "        vertical-align: top;\n",
       "    }\n",
       "\n",
       "    .dataframe thead th {\n",
       "        text-align: right;\n",
       "    }\n",
       "</style>\n",
       "<table border=\"1\" class=\"dataframe\">\n",
       "  <thead>\n",
       "    <tr style=\"text-align: right;\">\n",
       "      <th></th>\n",
       "      <th>label</th>\n",
       "      <th>length</th>\n",
       "    </tr>\n",
       "  </thead>\n",
       "  <tbody>\n",
       "    <tr>\n",
       "      <th>count</th>\n",
       "      <td>31962.000000</td>\n",
       "      <td>31962.000000</td>\n",
       "    </tr>\n",
       "    <tr>\n",
       "      <th>mean</th>\n",
       "      <td>0.070146</td>\n",
       "      <td>84.739628</td>\n",
       "    </tr>\n",
       "    <tr>\n",
       "      <th>std</th>\n",
       "      <td>0.255397</td>\n",
       "      <td>29.455749</td>\n",
       "    </tr>\n",
       "    <tr>\n",
       "      <th>min</th>\n",
       "      <td>0.000000</td>\n",
       "      <td>11.000000</td>\n",
       "    </tr>\n",
       "    <tr>\n",
       "      <th>25%</th>\n",
       "      <td>0.000000</td>\n",
       "      <td>63.000000</td>\n",
       "    </tr>\n",
       "    <tr>\n",
       "      <th>50%</th>\n",
       "      <td>0.000000</td>\n",
       "      <td>88.000000</td>\n",
       "    </tr>\n",
       "    <tr>\n",
       "      <th>75%</th>\n",
       "      <td>0.000000</td>\n",
       "      <td>108.000000</td>\n",
       "    </tr>\n",
       "    <tr>\n",
       "      <th>max</th>\n",
       "      <td>1.000000</td>\n",
       "      <td>274.000000</td>\n",
       "    </tr>\n",
       "  </tbody>\n",
       "</table>\n",
       "</div>"
      ],
      "text/plain": [
       "              label        length\n",
       "count  31962.000000  31962.000000\n",
       "mean       0.070146     84.739628\n",
       "std        0.255397     29.455749\n",
       "min        0.000000     11.000000\n",
       "25%        0.000000     63.000000\n",
       "50%        0.000000     88.000000\n",
       "75%        0.000000    108.000000\n",
       "max        1.000000    274.000000"
      ]
     },
     "execution_count": 11,
     "metadata": {},
     "output_type": "execute_result"
    }
   ],
   "source": [
    "tweets_df.describe()"
   ]
  },
  {
   "cell_type": "code",
   "execution_count": 12,
   "id": "c54c48fa",
   "metadata": {
    "execution": {
     "iopub.execute_input": "2024-04-25T17:15:40.619845Z",
     "iopub.status.busy": "2024-04-25T17:15:40.619101Z",
     "iopub.status.idle": "2024-04-25T17:15:40.622181Z",
     "shell.execute_reply": "2024-04-25T17:15:40.622700Z",
     "shell.execute_reply.started": "2024-04-25T16:48:28.589510Z"
    },
    "papermill": {
     "duration": 0.063659,
     "end_time": "2024-04-25T17:15:40.622881",
     "exception": false,
     "start_time": "2024-04-25T17:15:40.559222",
     "status": "completed"
    },
    "tags": []
   },
   "outputs": [
    {
     "data": {
      "text/plain": [
       "'i love you '"
      ]
     },
     "execution_count": 12,
     "metadata": {},
     "output_type": "execute_result"
    }
   ],
   "source": [
    "# Let's see the shortest message \n",
    "tweets_df[tweets_df['length'] == 11]['tweet'].iloc[0]"
   ]
  },
  {
   "cell_type": "code",
   "execution_count": 13,
   "id": "92b93280",
   "metadata": {
    "execution": {
     "iopub.execute_input": "2024-04-25T17:15:40.735954Z",
     "iopub.status.busy": "2024-04-25T17:15:40.735241Z",
     "iopub.status.idle": "2024-04-25T17:15:40.741446Z",
     "shell.execute_reply": "2024-04-25T17:15:40.742000Z",
     "shell.execute_reply.started": "2024-04-25T16:48:28.599235Z"
    },
    "papermill": {
     "duration": 0.06385,
     "end_time": "2024-04-25T17:15:40.742202",
     "exception": false,
     "start_time": "2024-04-25T17:15:40.678352",
     "status": "completed"
    },
    "tags": []
   },
   "outputs": [
    {
     "data": {
      "text/plain": [
       "'my mom shares the same bihday as @user   bihday snake! see you this weekend ð\\x9f\\x99\\x8cð\\x9f\\x8f¼'"
      ]
     },
     "execution_count": 13,
     "metadata": {},
     "output_type": "execute_result"
    }
   ],
   "source": [
    "# Let's see the message with mean length \n",
    "tweets_df[tweets_df['length'] == 84]['tweet'].iloc[0]"
   ]
  },
  {
   "cell_type": "code",
   "execution_count": 14,
   "id": "50e2b6d1",
   "metadata": {
    "execution": {
     "iopub.execute_input": "2024-04-25T17:15:40.859912Z",
     "iopub.status.busy": "2024-04-25T17:15:40.859211Z",
     "iopub.status.idle": "2024-04-25T17:15:40.873364Z",
     "shell.execute_reply": "2024-04-25T17:15:40.873893Z",
     "shell.execute_reply.started": "2024-04-25T16:48:28.612901Z"
    },
    "papermill": {
     "duration": 0.073255,
     "end_time": "2024-04-25T17:15:40.874090",
     "exception": false,
     "start_time": "2024-04-25T17:15:40.800835",
     "status": "completed"
    },
    "tags": []
   },
   "outputs": [
    {
     "data": {
      "text/html": [
       "<div>\n",
       "<style scoped>\n",
       "    .dataframe tbody tr th:only-of-type {\n",
       "        vertical-align: middle;\n",
       "    }\n",
       "\n",
       "    .dataframe tbody tr th {\n",
       "        vertical-align: top;\n",
       "    }\n",
       "\n",
       "    .dataframe thead th {\n",
       "        text-align: right;\n",
       "    }\n",
       "</style>\n",
       "<table border=\"1\" class=\"dataframe\">\n",
       "  <thead>\n",
       "    <tr style=\"text-align: right;\">\n",
       "      <th></th>\n",
       "      <th>label</th>\n",
       "      <th>tweet</th>\n",
       "      <th>length</th>\n",
       "    </tr>\n",
       "  </thead>\n",
       "  <tbody>\n",
       "    <tr>\n",
       "      <th>0</th>\n",
       "      <td>0</td>\n",
       "      <td>@user when a father is dysfunctional and is s...</td>\n",
       "      <td>102</td>\n",
       "    </tr>\n",
       "    <tr>\n",
       "      <th>1</th>\n",
       "      <td>0</td>\n",
       "      <td>@user @user thanks for #lyft credit i can't us...</td>\n",
       "      <td>122</td>\n",
       "    </tr>\n",
       "    <tr>\n",
       "      <th>2</th>\n",
       "      <td>0</td>\n",
       "      <td>bihday your majesty</td>\n",
       "      <td>21</td>\n",
       "    </tr>\n",
       "    <tr>\n",
       "      <th>3</th>\n",
       "      <td>0</td>\n",
       "      <td>#model   i love u take with u all the time in ...</td>\n",
       "      <td>86</td>\n",
       "    </tr>\n",
       "    <tr>\n",
       "      <th>4</th>\n",
       "      <td>0</td>\n",
       "      <td>factsguide: society now    #motivation</td>\n",
       "      <td>39</td>\n",
       "    </tr>\n",
       "    <tr>\n",
       "      <th>...</th>\n",
       "      <td>...</td>\n",
       "      <td>...</td>\n",
       "      <td>...</td>\n",
       "    </tr>\n",
       "    <tr>\n",
       "      <th>31956</th>\n",
       "      <td>0</td>\n",
       "      <td>off fishing tomorrow @user carnt wait first ti...</td>\n",
       "      <td>61</td>\n",
       "    </tr>\n",
       "    <tr>\n",
       "      <th>31957</th>\n",
       "      <td>0</td>\n",
       "      <td>ate @user isz that youuu?ðððððð...</td>\n",
       "      <td>68</td>\n",
       "    </tr>\n",
       "    <tr>\n",
       "      <th>31958</th>\n",
       "      <td>0</td>\n",
       "      <td>to see nina turner on the airwaves trying to...</td>\n",
       "      <td>131</td>\n",
       "    </tr>\n",
       "    <tr>\n",
       "      <th>31959</th>\n",
       "      <td>0</td>\n",
       "      <td>listening to sad songs on a monday morning otw...</td>\n",
       "      <td>63</td>\n",
       "    </tr>\n",
       "    <tr>\n",
       "      <th>31961</th>\n",
       "      <td>0</td>\n",
       "      <td>thank you @user for you follow</td>\n",
       "      <td>32</td>\n",
       "    </tr>\n",
       "  </tbody>\n",
       "</table>\n",
       "<p>29720 rows × 3 columns</p>\n",
       "</div>"
      ],
      "text/plain": [
       "       label                                              tweet  length\n",
       "0          0   @user when a father is dysfunctional and is s...     102\n",
       "1          0  @user @user thanks for #lyft credit i can't us...     122\n",
       "2          0                                bihday your majesty      21\n",
       "3          0  #model   i love u take with u all the time in ...      86\n",
       "4          0             factsguide: society now    #motivation      39\n",
       "...      ...                                                ...     ...\n",
       "31956      0  off fishing tomorrow @user carnt wait first ti...      61\n",
       "31957      0  ate @user isz that youuu?ðððððð...      68\n",
       "31958      0    to see nina turner on the airwaves trying to...     131\n",
       "31959      0  listening to sad songs on a monday morning otw...      63\n",
       "31961      0                   thank you @user for you follow        32\n",
       "\n",
       "[29720 rows x 3 columns]"
      ]
     },
     "execution_count": 14,
     "metadata": {},
     "output_type": "execute_result"
    }
   ],
   "source": [
    "positive = tweets_df[tweets_df['label']==0]\n",
    "positive"
   ]
  },
  {
   "cell_type": "code",
   "execution_count": 15,
   "id": "3ed0de01",
   "metadata": {
    "execution": {
     "iopub.execute_input": "2024-04-25T17:15:41.002569Z",
     "iopub.status.busy": "2024-04-25T17:15:40.992256Z",
     "iopub.status.idle": "2024-04-25T17:15:41.005914Z",
     "shell.execute_reply": "2024-04-25T17:15:41.006503Z",
     "shell.execute_reply.started": "2024-04-25T16:48:28.634327Z"
    },
    "papermill": {
     "duration": 0.078015,
     "end_time": "2024-04-25T17:15:41.006687",
     "exception": false,
     "start_time": "2024-04-25T17:15:40.928672",
     "status": "completed"
    },
    "tags": []
   },
   "outputs": [
    {
     "data": {
      "text/html": [
       "<div>\n",
       "<style scoped>\n",
       "    .dataframe tbody tr th:only-of-type {\n",
       "        vertical-align: middle;\n",
       "    }\n",
       "\n",
       "    .dataframe tbody tr th {\n",
       "        vertical-align: top;\n",
       "    }\n",
       "\n",
       "    .dataframe thead th {\n",
       "        text-align: right;\n",
       "    }\n",
       "</style>\n",
       "<table border=\"1\" class=\"dataframe\">\n",
       "  <thead>\n",
       "    <tr style=\"text-align: right;\">\n",
       "      <th></th>\n",
       "      <th>label</th>\n",
       "      <th>tweet</th>\n",
       "      <th>length</th>\n",
       "    </tr>\n",
       "  </thead>\n",
       "  <tbody>\n",
       "    <tr>\n",
       "      <th>13</th>\n",
       "      <td>1</td>\n",
       "      <td>@user #cnn calls #michigan middle school 'buil...</td>\n",
       "      <td>74</td>\n",
       "    </tr>\n",
       "    <tr>\n",
       "      <th>14</th>\n",
       "      <td>1</td>\n",
       "      <td>no comment!  in #australia   #opkillingbay #se...</td>\n",
       "      <td>101</td>\n",
       "    </tr>\n",
       "    <tr>\n",
       "      <th>17</th>\n",
       "      <td>1</td>\n",
       "      <td>retweet if you agree!</td>\n",
       "      <td>22</td>\n",
       "    </tr>\n",
       "    <tr>\n",
       "      <th>23</th>\n",
       "      <td>1</td>\n",
       "      <td>@user @user lumpy says i am a . prove it lumpy.</td>\n",
       "      <td>47</td>\n",
       "    </tr>\n",
       "    <tr>\n",
       "      <th>34</th>\n",
       "      <td>1</td>\n",
       "      <td>it's unbelievable that in the 21st century we'...</td>\n",
       "      <td>104</td>\n",
       "    </tr>\n",
       "    <tr>\n",
       "      <th>...</th>\n",
       "      <td>...</td>\n",
       "      <td>...</td>\n",
       "      <td>...</td>\n",
       "    </tr>\n",
       "    <tr>\n",
       "      <th>31934</th>\n",
       "      <td>1</td>\n",
       "      <td>lady banned from kentucky mall. @user  #jcpenn...</td>\n",
       "      <td>59</td>\n",
       "    </tr>\n",
       "    <tr>\n",
       "      <th>31946</th>\n",
       "      <td>1</td>\n",
       "      <td>@user omfg i'm offended! i'm a  mailbox and i'...</td>\n",
       "      <td>82</td>\n",
       "    </tr>\n",
       "    <tr>\n",
       "      <th>31947</th>\n",
       "      <td>1</td>\n",
       "      <td>@user @user you don't have the balls to hashta...</td>\n",
       "      <td>112</td>\n",
       "    </tr>\n",
       "    <tr>\n",
       "      <th>31948</th>\n",
       "      <td>1</td>\n",
       "      <td>makes you ask yourself, who am i? then am i a...</td>\n",
       "      <td>87</td>\n",
       "    </tr>\n",
       "    <tr>\n",
       "      <th>31960</th>\n",
       "      <td>1</td>\n",
       "      <td>@user #sikh #temple vandalised in in #calgary,...</td>\n",
       "      <td>67</td>\n",
       "    </tr>\n",
       "  </tbody>\n",
       "</table>\n",
       "<p>2242 rows × 3 columns</p>\n",
       "</div>"
      ],
      "text/plain": [
       "       label                                              tweet  length\n",
       "13         1  @user #cnn calls #michigan middle school 'buil...      74\n",
       "14         1  no comment!  in #australia   #opkillingbay #se...     101\n",
       "17         1                             retweet if you agree!       22\n",
       "23         1    @user @user lumpy says i am a . prove it lumpy.      47\n",
       "34         1  it's unbelievable that in the 21st century we'...     104\n",
       "...      ...                                                ...     ...\n",
       "31934      1  lady banned from kentucky mall. @user  #jcpenn...      59\n",
       "31946      1  @user omfg i'm offended! i'm a  mailbox and i'...      82\n",
       "31947      1  @user @user you don't have the balls to hashta...     112\n",
       "31948      1   makes you ask yourself, who am i? then am i a...      87\n",
       "31960      1  @user #sikh #temple vandalised in in #calgary,...      67\n",
       "\n",
       "[2242 rows x 3 columns]"
      ]
     },
     "execution_count": 15,
     "metadata": {},
     "output_type": "execute_result"
    }
   ],
   "source": [
    "negative = tweets_df[tweets_df['label']==1]\n",
    "negative"
   ]
  },
  {
   "cell_type": "code",
   "execution_count": 16,
   "id": "a0510177",
   "metadata": {
    "execution": {
     "iopub.execute_input": "2024-04-25T17:15:41.126497Z",
     "iopub.status.busy": "2024-04-25T17:15:41.125778Z",
     "iopub.status.idle": "2024-04-25T17:15:41.128634Z",
     "shell.execute_reply": "2024-04-25T17:15:41.129206Z",
     "shell.execute_reply.started": "2024-04-25T17:03:09.278459Z"
    },
    "papermill": {
     "duration": 0.06712,
     "end_time": "2024-04-25T17:15:41.129390",
     "exception": false,
     "start_time": "2024-04-25T17:15:41.062270",
     "status": "completed"
    },
    "tags": []
   },
   "outputs": [
    {
     "data": {
      "text/plain": [
       "'no comment!  in #australia   #opkillingbay #seashepherd #helpcovedolphins #thecove  #helpcovedolphins'"
      ]
     },
     "execution_count": 16,
     "metadata": {},
     "output_type": "execute_result"
    }
   ],
   "source": [
    "negative.iloc[1].tweet"
   ]
  },
  {
   "cell_type": "markdown",
   "id": "ba355466",
   "metadata": {
    "papermill": {
     "duration": 0.05654,
     "end_time": "2024-04-25T17:15:41.242868",
     "exception": false,
     "start_time": "2024-04-25T17:15:41.186328",
     "status": "completed"
    },
    "tags": []
   },
   "source": [
    "# Perform Data Cleaning-I (Remove Punctuations)"
   ]
  },
  {
   "cell_type": "code",
   "execution_count": 17,
   "id": "5bc5d0d1",
   "metadata": {
    "execution": {
     "iopub.execute_input": "2024-04-25T17:15:41.358485Z",
     "iopub.status.busy": "2024-04-25T17:15:41.357735Z",
     "iopub.status.idle": "2024-04-25T17:15:41.362682Z",
     "shell.execute_reply": "2024-04-25T17:15:41.363298Z",
     "shell.execute_reply.started": "2024-04-25T16:48:28.654392Z"
    },
    "papermill": {
     "duration": 0.065174,
     "end_time": "2024-04-25T17:15:41.363485",
     "exception": false,
     "start_time": "2024-04-25T17:15:41.298311",
     "status": "completed"
    },
    "tags": []
   },
   "outputs": [
    {
     "data": {
      "text/plain": [
       "'!\"#$%&\\'()*+,-./:;<=>?@[\\\\]^_`{|}~'"
      ]
     },
     "execution_count": 17,
     "metadata": {},
     "output_type": "execute_result"
    }
   ],
   "source": [
    "import string\n",
    "string.punctuation"
   ]
  },
  {
   "cell_type": "code",
   "execution_count": 18,
   "id": "4e298111",
   "metadata": {
    "execution": {
     "iopub.execute_input": "2024-04-25T17:15:41.482512Z",
     "iopub.status.busy": "2024-04-25T17:15:41.481761Z",
     "iopub.status.idle": "2024-04-25T17:15:41.485888Z",
     "shell.execute_reply": "2024-04-25T17:15:41.485331Z",
     "shell.execute_reply.started": "2024-04-25T16:48:28.662791Z"
    },
    "papermill": {
     "duration": 0.066679,
     "end_time": "2024-04-25T17:15:41.486075",
     "exception": false,
     "start_time": "2024-04-25T17:15:41.419396",
     "status": "completed"
    },
    "tags": []
   },
   "outputs": [
    {
     "data": {
      "text/plain": [
       "'G o o d   m o r n i n g   b e a u t i f u l   p e o p l e     I   a m   h a v i n g   f u n   l e a r n i n g   M a c h i n e   l e a r n i n g   a n d   A I'"
      ]
     },
     "execution_count": 18,
     "metadata": {},
     "output_type": "execute_result"
    }
   ],
   "source": [
    "Test = 'Good morning beautiful people :)... I am having fun learning Machine learning and AI!!'\n",
    "Test_punc_removed=[char for char in Test if char not in string.punctuation]\n",
    "\n",
    "# Join the characters again to form the string.\n",
    "Test_punc_removed_join=' '.join(Test_punc_removed)\n",
    "Test_punc_removed_join"
   ]
  },
  {
   "cell_type": "code",
   "execution_count": 19,
   "id": "420ef50b",
   "metadata": {
    "execution": {
     "iopub.execute_input": "2024-04-25T17:15:41.608851Z",
     "iopub.status.busy": "2024-04-25T17:15:41.608127Z",
     "iopub.status.idle": "2024-04-25T17:15:41.612188Z",
     "shell.execute_reply": "2024-04-25T17:15:41.611569Z",
     "shell.execute_reply.started": "2024-04-25T16:48:28.674552Z"
    },
    "papermill": {
     "duration": 0.068603,
     "end_time": "2024-04-25T17:15:41.612361",
     "exception": false,
     "start_time": "2024-04-25T17:15:41.543758",
     "status": "completed"
    },
    "tags": []
   },
   "outputs": [
    {
     "data": {
      "text/plain": [
       "'Good morning beautiful people  I am having fun learning Machine learning and AI'"
      ]
     },
     "execution_count": 19,
     "metadata": {},
     "output_type": "execute_result"
    }
   ],
   "source": [
    "Test_punc_removed = []\n",
    "for char in Test: \n",
    "    if char not in string.punctuation:\n",
    "        Test_punc_removed.append(char)\n",
    "        \n",
    "# Join the characters again to form the string.\n",
    "Test_punc_removed_join = ''.join(Test_punc_removed)\n",
    "Test_punc_removed_join"
   ]
  },
  {
   "cell_type": "markdown",
   "id": "fbb0febb",
   "metadata": {
    "papermill": {
     "duration": 0.058619,
     "end_time": "2024-04-25T17:15:41.730228",
     "exception": false,
     "start_time": "2024-04-25T17:15:41.671609",
     "status": "completed"
    },
    "tags": []
   },
   "source": [
    "# Perform Data Cleaning-II (Remove Stop Words)"
   ]
  },
  {
   "cell_type": "code",
   "execution_count": 20,
   "id": "4153e6d2",
   "metadata": {
    "execution": {
     "iopub.execute_input": "2024-04-25T17:15:41.852009Z",
     "iopub.status.busy": "2024-04-25T17:15:41.851257Z",
     "iopub.status.idle": "2024-04-25T17:15:41.866704Z",
     "shell.execute_reply": "2024-04-25T17:15:41.867213Z",
     "shell.execute_reply.started": "2024-04-25T16:48:28.689257Z"
    },
    "papermill": {
     "duration": 0.078782,
     "end_time": "2024-04-25T17:15:41.867407",
     "exception": false,
     "start_time": "2024-04-25T17:15:41.788625",
     "status": "completed"
    },
    "tags": []
   },
   "outputs": [
    {
     "data": {
      "text/plain": [
       "['i',\n",
       " 'me',\n",
       " 'my',\n",
       " 'myself',\n",
       " 'we',\n",
       " 'our',\n",
       " 'ours',\n",
       " 'ourselves',\n",
       " 'you',\n",
       " \"you're\",\n",
       " \"you've\",\n",
       " \"you'll\",\n",
       " \"you'd\",\n",
       " 'your',\n",
       " 'yours',\n",
       " 'yourself',\n",
       " 'yourselves',\n",
       " 'he',\n",
       " 'him',\n",
       " 'his',\n",
       " 'himself',\n",
       " 'she',\n",
       " \"she's\",\n",
       " 'her',\n",
       " 'hers',\n",
       " 'herself',\n",
       " 'it',\n",
       " \"it's\",\n",
       " 'its',\n",
       " 'itself',\n",
       " 'they',\n",
       " 'them',\n",
       " 'their',\n",
       " 'theirs',\n",
       " 'themselves',\n",
       " 'what',\n",
       " 'which',\n",
       " 'who',\n",
       " 'whom',\n",
       " 'this',\n",
       " 'that',\n",
       " \"that'll\",\n",
       " 'these',\n",
       " 'those',\n",
       " 'am',\n",
       " 'is',\n",
       " 'are',\n",
       " 'was',\n",
       " 'were',\n",
       " 'be',\n",
       " 'been',\n",
       " 'being',\n",
       " 'have',\n",
       " 'has',\n",
       " 'had',\n",
       " 'having',\n",
       " 'do',\n",
       " 'does',\n",
       " 'did',\n",
       " 'doing',\n",
       " 'a',\n",
       " 'an',\n",
       " 'the',\n",
       " 'and',\n",
       " 'but',\n",
       " 'if',\n",
       " 'or',\n",
       " 'because',\n",
       " 'as',\n",
       " 'until',\n",
       " 'while',\n",
       " 'of',\n",
       " 'at',\n",
       " 'by',\n",
       " 'for',\n",
       " 'with',\n",
       " 'about',\n",
       " 'against',\n",
       " 'between',\n",
       " 'into',\n",
       " 'through',\n",
       " 'during',\n",
       " 'before',\n",
       " 'after',\n",
       " 'above',\n",
       " 'below',\n",
       " 'to',\n",
       " 'from',\n",
       " 'up',\n",
       " 'down',\n",
       " 'in',\n",
       " 'out',\n",
       " 'on',\n",
       " 'off',\n",
       " 'over',\n",
       " 'under',\n",
       " 'again',\n",
       " 'further',\n",
       " 'then',\n",
       " 'once',\n",
       " 'here',\n",
       " 'there',\n",
       " 'when',\n",
       " 'where',\n",
       " 'why',\n",
       " 'how',\n",
       " 'all',\n",
       " 'any',\n",
       " 'both',\n",
       " 'each',\n",
       " 'few',\n",
       " 'more',\n",
       " 'most',\n",
       " 'other',\n",
       " 'some',\n",
       " 'such',\n",
       " 'no',\n",
       " 'nor',\n",
       " 'not',\n",
       " 'only',\n",
       " 'own',\n",
       " 'same',\n",
       " 'so',\n",
       " 'than',\n",
       " 'too',\n",
       " 'very',\n",
       " 's',\n",
       " 't',\n",
       " 'can',\n",
       " 'will',\n",
       " 'just',\n",
       " 'don',\n",
       " \"don't\",\n",
       " 'should',\n",
       " \"should've\",\n",
       " 'now',\n",
       " 'd',\n",
       " 'll',\n",
       " 'm',\n",
       " 'o',\n",
       " 're',\n",
       " 've',\n",
       " 'y',\n",
       " 'ain',\n",
       " 'aren',\n",
       " \"aren't\",\n",
       " 'couldn',\n",
       " \"couldn't\",\n",
       " 'didn',\n",
       " \"didn't\",\n",
       " 'doesn',\n",
       " \"doesn't\",\n",
       " 'hadn',\n",
       " \"hadn't\",\n",
       " 'hasn',\n",
       " \"hasn't\",\n",
       " 'haven',\n",
       " \"haven't\",\n",
       " 'isn',\n",
       " \"isn't\",\n",
       " 'ma',\n",
       " 'mightn',\n",
       " \"mightn't\",\n",
       " 'mustn',\n",
       " \"mustn't\",\n",
       " 'needn',\n",
       " \"needn't\",\n",
       " 'shan',\n",
       " \"shan't\",\n",
       " 'shouldn',\n",
       " \"shouldn't\",\n",
       " 'wasn',\n",
       " \"wasn't\",\n",
       " 'weren',\n",
       " \"weren't\",\n",
       " 'won',\n",
       " \"won't\",\n",
       " 'wouldn',\n",
       " \"wouldn't\"]"
      ]
     },
     "execution_count": 20,
     "metadata": {},
     "output_type": "execute_result"
    }
   ],
   "source": [
    "# You have to download stopwords Package to execute this command\n",
    "from nltk.corpus import stopwords\n",
    "stopwords.words('english')"
   ]
  },
  {
   "cell_type": "code",
   "execution_count": 21,
   "id": "80139a94",
   "metadata": {
    "execution": {
     "iopub.execute_input": "2024-04-25T17:15:41.989541Z",
     "iopub.status.busy": "2024-04-25T17:15:41.988442Z",
     "iopub.status.idle": "2024-04-25T17:15:41.997207Z",
     "shell.execute_reply": "2024-04-25T17:15:41.996481Z",
     "shell.execute_reply.started": "2024-04-25T16:48:28.714977Z"
    },
    "papermill": {
     "duration": 0.072171,
     "end_time": "2024-04-25T17:15:41.997372",
     "exception": false,
     "start_time": "2024-04-25T17:15:41.925201",
     "status": "completed"
    },
    "tags": []
   },
   "outputs": [
    {
     "data": {
      "text/plain": [
       "['Good',\n",
       " 'morning',\n",
       " 'beautiful',\n",
       " 'people',\n",
       " 'fun',\n",
       " 'learning',\n",
       " 'Machine',\n",
       " 'learning',\n",
       " 'AI']"
      ]
     },
     "execution_count": 21,
     "metadata": {},
     "output_type": "execute_result"
    }
   ],
   "source": [
    "Test_punc_removed_join_clean=[word for word in Test_punc_removed_join.split()  if word.lower() not in stopwords.words('english')]\n",
    "\n",
    "Test_punc_removed_join_clean # Only important (no so common) words are left"
   ]
  },
  {
   "cell_type": "code",
   "execution_count": 22,
   "id": "5677886d",
   "metadata": {
    "execution": {
     "iopub.execute_input": "2024-04-25T17:15:42.125197Z",
     "iopub.status.busy": "2024-04-25T17:15:42.124477Z",
     "iopub.status.idle": "2024-04-25T17:15:42.131314Z",
     "shell.execute_reply": "2024-04-25T17:15:42.130656Z",
     "shell.execute_reply.started": "2024-04-25T16:48:28.726386Z"
    },
    "papermill": {
     "duration": 0.073022,
     "end_time": "2024-04-25T17:15:42.131482",
     "exception": false,
     "start_time": "2024-04-25T17:15:42.058460",
     "status": "completed"
    },
    "tags": []
   },
   "outputs": [],
   "source": [
    "mini_challenge = 'Here is a mini challenge, that will teach you how to remove stopwords and punctuations!'\n",
    "\n",
    "challege = [ char     for char in mini_challenge  if char not in string.punctuation ]\n",
    "challenge = ''.join(challege)\n",
    "challenge = [  word for word in challenge.split() if word.lower() not in stopwords.words('english')  ] "
   ]
  },
  {
   "cell_type": "markdown",
   "id": "73722dd7",
   "metadata": {
    "papermill": {
     "duration": 0.058561,
     "end_time": "2024-04-25T17:15:42.248722",
     "exception": false,
     "start_time": "2024-04-25T17:15:42.190161",
     "status": "completed"
    },
    "tags": []
   },
   "source": [
    "# Perform Count Vectorization (Tokenization)"
   ]
  },
  {
   "cell_type": "code",
   "execution_count": 23,
   "id": "533dc2b9",
   "metadata": {
    "execution": {
     "iopub.execute_input": "2024-04-25T17:15:42.369189Z",
     "iopub.status.busy": "2024-04-25T17:15:42.368370Z",
     "iopub.status.idle": "2024-04-25T17:15:42.371557Z",
     "shell.execute_reply": "2024-04-25T17:15:42.371023Z",
     "shell.execute_reply.started": "2024-04-25T16:48:28.738216Z"
    },
    "papermill": {
     "duration": 0.065532,
     "end_time": "2024-04-25T17:15:42.371721",
     "exception": false,
     "start_time": "2024-04-25T17:15:42.306189",
     "status": "completed"
    },
    "tags": []
   },
   "outputs": [],
   "source": [
    "#### Tokenization is the process of converting words into numbers to represent it in the form of vector "
   ]
  },
  {
   "cell_type": "code",
   "execution_count": 24,
   "id": "88fa7209",
   "metadata": {
    "execution": {
     "iopub.execute_input": "2024-04-25T17:15:42.497325Z",
     "iopub.status.busy": "2024-04-25T17:15:42.496526Z",
     "iopub.status.idle": "2024-04-25T17:15:42.499289Z",
     "shell.execute_reply": "2024-04-25T17:15:42.498625Z",
     "shell.execute_reply.started": "2024-04-25T16:48:28.745991Z"
    },
    "papermill": {
     "duration": 0.069861,
     "end_time": "2024-04-25T17:15:42.499437",
     "exception": false,
     "start_time": "2024-04-25T17:15:42.429576",
     "status": "completed"
    },
    "tags": []
   },
   "outputs": [],
   "source": [
    "from sklearn.feature_extraction.text import CountVectorizer\n",
    "sample_data = ['This is the first paper.','This document is the second paper.','And this is the third one.','Is this the first paper?']\n",
    "\n",
    "vectorizer= CountVectorizer()\n",
    "X=vectorizer.fit_transform(sample_data)"
   ]
  },
  {
   "cell_type": "code",
   "execution_count": 25,
   "id": "da5f3f75",
   "metadata": {
    "execution": {
     "iopub.execute_input": "2024-04-25T17:15:42.621078Z",
     "iopub.status.busy": "2024-04-25T17:15:42.620292Z",
     "iopub.status.idle": "2024-04-25T17:15:42.624422Z",
     "shell.execute_reply": "2024-04-25T17:15:42.623752Z",
     "shell.execute_reply.started": "2024-04-25T16:48:28.768877Z"
    },
    "papermill": {
     "duration": 0.067451,
     "end_time": "2024-04-25T17:15:42.624570",
     "exception": false,
     "start_time": "2024-04-25T17:15:42.557119",
     "status": "completed"
    },
    "tags": []
   },
   "outputs": [
    {
     "name": "stdout",
     "output_type": "stream",
     "text": [
      "['and', 'document', 'first', 'is', 'one', 'paper', 'second', 'the', 'third', 'this']\n"
     ]
    }
   ],
   "source": [
    "print(vectorizer.get_feature_names())"
   ]
  },
  {
   "cell_type": "code",
   "execution_count": 26,
   "id": "d802e1db",
   "metadata": {
    "execution": {
     "iopub.execute_input": "2024-04-25T17:15:42.752458Z",
     "iopub.status.busy": "2024-04-25T17:15:42.751615Z",
     "iopub.status.idle": "2024-04-25T17:15:42.755447Z",
     "shell.execute_reply": "2024-04-25T17:15:42.754800Z",
     "shell.execute_reply.started": "2024-04-25T16:48:28.779151Z"
    },
    "papermill": {
     "duration": 0.071355,
     "end_time": "2024-04-25T17:15:42.755590",
     "exception": false,
     "start_time": "2024-04-25T17:15:42.684235",
     "status": "completed"
    },
    "tags": []
   },
   "outputs": [
    {
     "name": "stdout",
     "output_type": "stream",
     "text": [
      "[[0 0 1 1 0 1 0 1 0 1]\n",
      " [0 1 0 1 0 1 1 1 0 1]\n",
      " [1 0 0 1 1 0 0 1 1 1]\n",
      " [0 0 1 1 0 1 0 1 0 1]]\n"
     ]
    }
   ],
   "source": [
    "print(X.toarray())"
   ]
  },
  {
   "cell_type": "code",
   "execution_count": 27,
   "id": "61655b18",
   "metadata": {
    "execution": {
     "iopub.execute_input": "2024-04-25T17:15:42.902350Z",
     "iopub.status.busy": "2024-04-25T17:15:42.901640Z",
     "iopub.status.idle": "2024-04-25T17:15:42.904515Z",
     "shell.execute_reply": "2024-04-25T17:15:42.905047Z",
     "shell.execute_reply.started": "2024-04-25T16:48:28.793726Z"
    },
    "papermill": {
     "duration": 0.083679,
     "end_time": "2024-04-25T17:15:42.905264",
     "exception": false,
     "start_time": "2024-04-25T17:15:42.821585",
     "status": "completed"
    },
    "tags": []
   },
   "outputs": [
    {
     "name": "stdout",
     "output_type": "stream",
     "text": [
      "[[1 1]\n",
      " [2 1]\n",
      " [1 3]]\n"
     ]
    }
   ],
   "source": [
    "mini_challenge = ['Hello World','Hello Hello World','Hello World world world']\n",
    "\n",
    "vectorizer_challenge = CountVectorizer()\n",
    "X_challenge = vectorizer_challenge.fit_transform(mini_challenge)\n",
    "print(X_challenge.toarray())"
   ]
  },
  {
   "cell_type": "markdown",
   "id": "19b03722",
   "metadata": {
    "papermill": {
     "duration": 0.059232,
     "end_time": "2024-04-25T17:15:43.024068",
     "exception": false,
     "start_time": "2024-04-25T17:15:42.964836",
     "status": "completed"
    },
    "tags": []
   },
   "source": [
    "# Creating a Pipeline to Remove Punctuations, Stop words & Perform Tokenization"
   ]
  },
  {
   "cell_type": "code",
   "execution_count": 28,
   "id": "ff9bd0b9",
   "metadata": {
    "execution": {
     "iopub.execute_input": "2024-04-25T17:15:43.150556Z",
     "iopub.status.busy": "2024-04-25T17:15:43.149574Z",
     "iopub.status.idle": "2024-04-25T17:15:43.152044Z",
     "shell.execute_reply": "2024-04-25T17:15:43.152518Z",
     "shell.execute_reply.started": "2024-04-25T16:48:28.812010Z"
    },
    "papermill": {
     "duration": 0.067597,
     "end_time": "2024-04-25T17:15:43.152702",
     "exception": false,
     "start_time": "2024-04-25T17:15:43.085105",
     "status": "completed"
    },
    "tags": []
   },
   "outputs": [],
   "source": [
    "# Let's define a pipeline to clean up all the messages \n",
    "# The pipeline performs the following: (1) remove punctuation, (2) remove stopwords\n",
    "\n",
    "def message_cleaning(message):\n",
    "    Test_punc_removed = [char for char in message if char not in string.punctuation]\n",
    "    Test_punc_removed_join = ''.join(Test_punc_removed)\n",
    "    Test_punc_removed_join_clean = [word for word in Test_punc_removed_join.split() if word.lower() not in stopwords.words('english')]\n",
    "    return Test_punc_removed_join_clean"
   ]
  },
  {
   "cell_type": "code",
   "execution_count": 29,
   "id": "d4e48a0a",
   "metadata": {
    "execution": {
     "iopub.execute_input": "2024-04-25T17:15:43.284785Z",
     "iopub.status.busy": "2024-04-25T17:15:43.283685Z",
     "iopub.status.idle": "2024-04-25T17:16:40.815100Z",
     "shell.execute_reply": "2024-04-25T17:16:40.815648Z",
     "shell.execute_reply.started": "2024-04-25T16:48:28.826316Z"
    },
    "papermill": {
     "duration": 57.602334,
     "end_time": "2024-04-25T17:16:40.815840",
     "exception": false,
     "start_time": "2024-04-25T17:15:43.213506",
     "status": "completed"
    },
    "tags": []
   },
   "outputs": [
    {
     "name": "stdout",
     "output_type": "stream",
     "text": [
      "['22', 'huge', 'fan', 'fare', 'big', 'talking', 'leave', 'chaos', 'pay', 'disputes', 'get', 'allshowandnogo']\n"
     ]
    }
   ],
   "source": [
    "# Let's test the newly added function\n",
    "tweets_df_clean = tweets_df['tweet'].apply(message_cleaning)\n",
    "\n",
    "print(tweets_df_clean[5]) # show the cleaned up version"
   ]
  },
  {
   "cell_type": "code",
   "execution_count": 30,
   "id": "3b0d2603",
   "metadata": {
    "execution": {
     "iopub.execute_input": "2024-04-25T17:16:40.940784Z",
     "iopub.status.busy": "2024-04-25T17:16:40.939760Z",
     "iopub.status.idle": "2024-04-25T17:16:40.945745Z",
     "shell.execute_reply": "2024-04-25T17:16:40.946252Z",
     "shell.execute_reply.started": "2024-04-25T16:49:35.647911Z"
    },
    "papermill": {
     "duration": 0.070279,
     "end_time": "2024-04-25T17:16:40.946453",
     "exception": false,
     "start_time": "2024-04-25T17:16:40.876174",
     "status": "completed"
    },
    "tags": []
   },
   "outputs": [
    {
     "name": "stdout",
     "output_type": "stream",
     "text": [
      "[2/2] huge fan fare and big talking before they leave. chaos and pay disputes when they get there. #allshowandnogo  \n"
     ]
    }
   ],
   "source": [
    "print(tweets_df['tweet'][5]) # show the original version"
   ]
  },
  {
   "cell_type": "code",
   "execution_count": 31,
   "id": "22c1898c",
   "metadata": {
    "execution": {
     "iopub.execute_input": "2024-04-25T17:16:41.075480Z",
     "iopub.status.busy": "2024-04-25T17:16:41.074454Z",
     "iopub.status.idle": "2024-04-25T17:17:40.081887Z",
     "shell.execute_reply": "2024-04-25T17:17:40.082473Z",
     "shell.execute_reply.started": "2024-04-25T16:49:35.654013Z"
    },
    "papermill": {
     "duration": 59.074197,
     "end_time": "2024-04-25T17:17:40.082696",
     "exception": false,
     "start_time": "2024-04-25T17:16:41.008499",
     "status": "completed"
    },
    "tags": []
   },
   "outputs": [],
   "source": [
    "from sklearn.feature_extraction.text import CountVectorizer\n",
    "\n",
    "# Define the cleaning pipeline we defined earlier\n",
    "vectorizer = CountVectorizer(analyzer = message_cleaning, dtype = np.uint8)\n",
    "tweets_countvectorizer = vectorizer.fit_transform(tweets_df['tweet'])"
   ]
  },
  {
   "cell_type": "code",
   "execution_count": 32,
   "id": "8de1e347",
   "metadata": {
    "execution": {
     "iopub.execute_input": "2024-04-25T17:17:40.215037Z",
     "iopub.status.busy": "2024-04-25T17:17:40.214329Z",
     "iopub.status.idle": "2024-04-25T17:17:40.279799Z",
     "shell.execute_reply": "2024-04-25T17:17:40.280335Z",
     "shell.execute_reply.started": "2024-04-25T16:50:43.231576Z"
    },
    "papermill": {
     "duration": 0.131071,
     "end_time": "2024-04-25T17:17:40.280516",
     "exception": false,
     "start_time": "2024-04-25T17:17:40.149445",
     "status": "completed"
    },
    "tags": []
   },
   "outputs": [
    {
     "data": {
      "text/plain": [
       "['0',\n",
       " '0000001',\n",
       " '00027',\n",
       " '001',\n",
       " '0035',\n",
       " '00h30',\n",
       " '01',\n",
       " '0115',\n",
       " '0161',\n",
       " '019',\n",
       " '01926889917',\n",
       " '02',\n",
       " '0265',\n",
       " '0266808099',\n",
       " '02900',\n",
       " '03',\n",
       " '030916',\n",
       " '03111880779',\n",
       " '032',\n",
       " '033',\n",
       " '0345',\n",
       " '039',\n",
       " '04',\n",
       " '045',\n",
       " '04k',\n",
       " '05',\n",
       " '0506823156',\n",
       " '06',\n",
       " '06052016',\n",
       " '0606',\n",
       " '060616',\n",
       " '0608',\n",
       " '0608wed',\n",
       " '0609',\n",
       " '0610',\n",
       " '061116',\n",
       " '0612',\n",
       " '0613',\n",
       " '0616',\n",
       " '0617',\n",
       " '0618',\n",
       " '0618saturday7monthscouple',\n",
       " '0618â\\x99¡',\n",
       " '0620',\n",
       " '06202016',\n",
       " '0622',\n",
       " '0624',\n",
       " '06Â',\n",
       " '07',\n",
       " '07000',\n",
       " '07040',\n",
       " '07044',\n",
       " '07150',\n",
       " '07190',\n",
       " '07400',\n",
       " '07468',\n",
       " '07500',\n",
       " '076',\n",
       " '07788427999',\n",
       " '07800',\n",
       " '07840',\n",
       " '07850',\n",
       " '07870',\n",
       " '07900',\n",
       " '07930',\n",
       " '07950',\n",
       " '08',\n",
       " '0806',\n",
       " '080616',\n",
       " '088b',\n",
       " '08â\\x80¦',\n",
       " '09',\n",
       " '09062016',\n",
       " '0933m',\n",
       " '09600',\n",
       " '0k',\n",
       " '0shares',\n",
       " '0tolerancemovie',\n",
       " '0ð\\x9f\\x98¥â\\x98¹ï¸\\x8f',\n",
       " '1',\n",
       " '10',\n",
       " '100',\n",
       " '1000',\n",
       " '100000',\n",
       " '10003',\n",
       " '10007',\n",
       " '1000gifts',\n",
       " '1000th',\n",
       " '1000x',\n",
       " '1000yr',\n",
       " '1000â\\x82¬',\n",
       " '1001',\n",
       " '1001000s',\n",
       " '10014',\n",
       " '10021',\n",
       " '10025',\n",
       " '10040',\n",
       " '100616',\n",
       " '10064',\n",
       " '100d',\n",
       " '100daysofcode',\n",
       " '100daysofpigpaintings',\n",
       " '100daysoftea',\n",
       " '100faces',\n",
       " '100happydays',\n",
       " '100happydaysâ\\x80¦',\n",
       " '100happysongs',\n",
       " '100juiceð\\x9f\\x8d\\x8dð\\x9f\\x8d\\x93ð\\x9f\\x8d\\x87ð\\x9f\\x8d\\x92ð\\x9f\\x8d\\x91ð\\x9f\\x8d\\x8b',\n",
       " '100k',\n",
       " '100ml',\n",
       " '100pm',\n",
       " '100yr',\n",
       " '100â\\x80\\x99s',\n",
       " '101',\n",
       " '10125',\n",
       " '1014',\n",
       " '10143hr',\n",
       " '1015',\n",
       " '1017',\n",
       " '1019',\n",
       " '101dalmatians',\n",
       " '101daysofsmiles',\n",
       " '101ð\\x9f\\x98\\x89ð\\x9f\\x98\\x89ð\\x9f\\x8e\\x89ð\\x9f\\x8e\\x89ð\\x9f\\x92¥ð\\x9f\\x92¥',\n",
       " '1027',\n",
       " '102816',\n",
       " '102pm',\n",
       " '1030',\n",
       " '10353',\n",
       " '104',\n",
       " '1044',\n",
       " '10450',\n",
       " '10480',\n",
       " '10550',\n",
       " '1059am',\n",
       " '105kg',\n",
       " '106',\n",
       " '10650',\n",
       " '10670',\n",
       " '1070',\n",
       " '10700',\n",
       " '1080',\n",
       " '10830',\n",
       " '1096',\n",
       " '10a',\n",
       " '10alltypespos',\n",
       " '10am',\n",
       " '10days',\n",
       " '10hrs',\n",
       " '10k',\n",
       " '10kday',\n",
       " '10kms',\n",
       " '10m',\n",
       " '10meses',\n",
       " '10miler',\n",
       " '10millionmiler',\n",
       " '10minmile',\n",
       " '10minutes',\n",
       " '10minutestogo',\n",
       " '10month',\n",
       " '10moreyrs',\n",
       " '10pm',\n",
       " '10ppm',\n",
       " '10s',\n",
       " '10th',\n",
       " '10x',\n",
       " '10year',\n",
       " '10yr',\n",
       " '11',\n",
       " '110',\n",
       " '11000',\n",
       " '1106',\n",
       " '110616',\n",
       " '1109',\n",
       " '1111',\n",
       " '1117',\n",
       " '11180',\n",
       " '11192016',\n",
       " '112000',\n",
       " '11230',\n",
       " '11240',\n",
       " '11250',\n",
       " '1126',\n",
       " '11270',\n",
       " '1127tn',\n",
       " '1130',\n",
       " '11300',\n",
       " '1130am',\n",
       " '1130pm',\n",
       " '11350',\n",
       " '113days',\n",
       " '114',\n",
       " '11400',\n",
       " '1145',\n",
       " '115',\n",
       " '1155',\n",
       " '115pm215pm4pm',\n",
       " '116',\n",
       " '116000',\n",
       " '1162',\n",
       " '11740',\n",
       " '118',\n",
       " '119',\n",
       " '11911',\n",
       " '11amp12',\n",
       " '11daystogo',\n",
       " '11inchlatcock',\n",
       " '11j',\n",
       " '11june2016',\n",
       " '11juneâ\\x9c\\x88ï¸\\x8f',\n",
       " '11millionsubs',\n",
       " '11pm',\n",
       " '11pt',\n",
       " '11th',\n",
       " '11thmonthsary',\n",
       " '12',\n",
       " '120',\n",
       " '1200',\n",
       " '12000',\n",
       " '1200custom',\n",
       " '1200d',\n",
       " '1206',\n",
       " '12062016',\n",
       " '121',\n",
       " '1213',\n",
       " '123',\n",
       " '12313',\n",
       " '1235',\n",
       " '123rd',\n",
       " '124',\n",
       " '125',\n",
       " '12500',\n",
       " '126',\n",
       " '1260',\n",
       " '12700',\n",
       " '12720',\n",
       " '1280',\n",
       " '12840',\n",
       " '12850',\n",
       " '129',\n",
       " '12900',\n",
       " '12952',\n",
       " '1299',\n",
       " '12daystoolong',\n",
       " '12june',\n",
       " '12k',\n",
       " '12mill',\n",
       " '12minm',\n",
       " '12months',\n",
       " '12pm',\n",
       " '12pt',\n",
       " '12th',\n",
       " '12weeksofexerciseâ\\x80¦',\n",
       " '12x12',\n",
       " '12x12best',\n",
       " '12yearold',\n",
       " '12yrs',\n",
       " '12Â',\n",
       " '13',\n",
       " '1300',\n",
       " '1301',\n",
       " '1306',\n",
       " '130616',\n",
       " '130pm',\n",
       " '1314',\n",
       " '1316',\n",
       " '1320',\n",
       " '13479',\n",
       " '1355',\n",
       " '136',\n",
       " '13615',\n",
       " '13615onedirection',\n",
       " '13671370',\n",
       " '138',\n",
       " '138k',\n",
       " '139',\n",
       " '13cabs',\n",
       " '13daystogo',\n",
       " '13hrs',\n",
       " '13percent',\n",
       " '13th',\n",
       " '13thdocumentary',\n",
       " '13yr',\n",
       " '14',\n",
       " '140',\n",
       " '1400',\n",
       " '14000',\n",
       " '1406',\n",
       " '14140',\n",
       " '1418now',\n",
       " '14200',\n",
       " '142017',\n",
       " '1426',\n",
       " '1428',\n",
       " '1430',\n",
       " '14300',\n",
       " '14330',\n",
       " '144000',\n",
       " '14440',\n",
       " '14509',\n",
       " '146',\n",
       " '146540383315',\n",
       " '146548350793',\n",
       " '146549118088',\n",
       " '146551855923',\n",
       " '14655211716',\n",
       " '146553966006',\n",
       " '146559416364',\n",
       " '146561573275',\n",
       " '146562489121',\n",
       " '146566806708',\n",
       " '146566878899',\n",
       " '14657299921',\n",
       " '146574845042',\n",
       " '146587684966',\n",
       " '146601580087',\n",
       " '146604726015',\n",
       " '146611754356',\n",
       " '146613099097',\n",
       " '146613148779',\n",
       " '146614684803',\n",
       " '146616195126',\n",
       " '146625485594',\n",
       " '146625748002',\n",
       " '146627813527',\n",
       " '146631675197',\n",
       " '146631964117',\n",
       " '146632324152',\n",
       " '146635635817',\n",
       " '146635779606',\n",
       " '146636043542',\n",
       " '146638873624',\n",
       " '147',\n",
       " '148',\n",
       " '149',\n",
       " '1499',\n",
       " '14days',\n",
       " '14june',\n",
       " '14m',\n",
       " '14oh',\n",
       " '14th',\n",
       " '14th15th16th',\n",
       " '14Â°',\n",
       " '15',\n",
       " '150',\n",
       " '1500',\n",
       " '15000',\n",
       " '150202',\n",
       " '150516',\n",
       " '150616',\n",
       " '150kg',\n",
       " '151',\n",
       " '15100',\n",
       " '1512',\n",
       " '1515',\n",
       " '1530',\n",
       " '1535',\n",
       " '1537',\n",
       " '154',\n",
       " '155am',\n",
       " '157',\n",
       " '158lbsâ\\x80¦',\n",
       " '1592',\n",
       " '15egsc',\n",
       " '15hr',\n",
       " '15july',\n",
       " '15k',\n",
       " '15pm',\n",
       " '15th',\n",
       " '15thcentury',\n",
       " '16',\n",
       " '160',\n",
       " '1600',\n",
       " '16026',\n",
       " '160327',\n",
       " '160613',\n",
       " '160616',\n",
       " '160618',\n",
       " '160619Â',\n",
       " '161366',\n",
       " '1616',\n",
       " '161618',\n",
       " '162',\n",
       " '1620',\n",
       " '1621',\n",
       " '1622',\n",
       " '1625',\n",
       " '1630',\n",
       " '1647',\n",
       " '165',\n",
       " '168',\n",
       " '169',\n",
       " '16gb',\n",
       " '16h',\n",
       " '16june',\n",
       " '16juni',\n",
       " '16mm',\n",
       " '16th',\n",
       " '16thjune',\n",
       " '16years',\n",
       " '16yo',\n",
       " '16yrs',\n",
       " '17',\n",
       " '170000',\n",
       " '1702',\n",
       " '1706',\n",
       " '17062016',\n",
       " '171',\n",
       " '171120144256px',\n",
       " '1719',\n",
       " '1730',\n",
       " '1744',\n",
       " '17500',\n",
       " '177',\n",
       " '178',\n",
       " '179k',\n",
       " '17june',\n",
       " '17th',\n",
       " '17weeks',\n",
       " '17yo',\n",
       " '18',\n",
       " '180',\n",
       " '1800',\n",
       " '1800gotjunk',\n",
       " '1800s',\n",
       " '1800tofli',\n",
       " '18031882',\n",
       " '1806',\n",
       " '180616',\n",
       " '1812',\n",
       " '1819',\n",
       " '182',\n",
       " '1824',\n",
       " '1826',\n",
       " '184',\n",
       " '1848',\n",
       " '1855',\n",
       " '187',\n",
       " '18hourheels',\n",
       " '18june2016rainstaedeveningsky',\n",
       " '18mm',\n",
       " '18mth',\n",
       " '18th',\n",
       " '18thâ\\x80¦',\n",
       " '18x24',\n",
       " '18yearold',\n",
       " '18yearsold',\n",
       " '19',\n",
       " '1900',\n",
       " '19000',\n",
       " '19062016',\n",
       " '1908',\n",
       " '190k',\n",
       " '19261962',\n",
       " '192chandragupta',\n",
       " '1930',\n",
       " '1930s',\n",
       " '19332016',\n",
       " '194050',\n",
       " '194244',\n",
       " '195',\n",
       " '1950s',\n",
       " '1956',\n",
       " '195daystogo',\n",
       " '195k',\n",
       " '1960',\n",
       " '1960s',\n",
       " '19632015',\n",
       " '1964',\n",
       " '1966',\n",
       " '1967',\n",
       " '1968',\n",
       " '1975',\n",
       " '1976',\n",
       " '1977',\n",
       " '1980s',\n",
       " '1981',\n",
       " '1982',\n",
       " '1983',\n",
       " '1984',\n",
       " '1987',\n",
       " '1989',\n",
       " '1992',\n",
       " '1994',\n",
       " '1995',\n",
       " '1995now',\n",
       " '1995â\\x80¦',\n",
       " '1996',\n",
       " '1997',\n",
       " '1998',\n",
       " '199802',\n",
       " '1999',\n",
       " '19days',\n",
       " '19th',\n",
       " '19yr',\n",
       " '19â\\x80¦',\n",
       " '1a',\n",
       " '1afilm',\n",
       " '1am',\n",
       " '1amp2',\n",
       " '1aÃ±o',\n",
       " '1d',\n",
       " '1dadloveyouinstalikeinstadailyinstamoodð\\x9f\\x91¸ð\\x9f\\x91¸ð\\x9f\\x91¸ð\\x9f\\x91¸ð\\x9f\\x91¸ð\\x9f\\x98\\x8dð\\x9f\\x98\\x8dð\\x9f\\x98\\x8dð\\x9f\\x98\\x8dð\\x9f\\x92\\x99ð\\x9f\\x92\\x99ð\\x9f\\x92\\x99â\\x9c\\x94',\n",
       " '1day',\n",
       " '1dayleft',\n",
       " '1dbetweenus',\n",
       " '1depaure',\n",
       " '1dfana',\n",
       " '1dspecials',\n",
       " '1ea',\n",
       " '1gabba',\n",
       " '1gaâ\\x80¦',\n",
       " '1gâ\\x80¦',\n",
       " '1hitmusicstation',\n",
       " '1hr',\n",
       " '1in5',\n",
       " '1k',\n",
       " '1l',\n",
       " '1linewed',\n",
       " '1love',\n",
       " '1m25s',\n",
       " '1monh',\n",
       " '1month',\n",
       " '1monthtogo',\n",
       " '1more',\n",
       " '1night',\n",
       " '1of',\n",
       " '1pm',\n",
       " '1pun',\n",
       " '1q',\n",
       " '1s',\n",
       " '1st',\n",
       " '1stactivity',\n",
       " '1stammendment',\n",
       " '1stgame',\n",
       " '1struggle',\n",
       " '1stsoloalbum',\n",
       " '1stsoloalbumleejonghyun',\n",
       " '1sttime',\n",
       " '1stvoteever',\n",
       " '1week3days',\n",
       " '1weektogo',\n",
       " '1world',\n",
       " '1year',\n",
       " '1year3monthsâ\\x80¦',\n",
       " '1yearagâ\\x80¦',\n",
       " '1yf',\n",
       " '1yr',\n",
       " '1ð\\x9f\\x98\\x82ð\\x9f\\x98\\x82',\n",
       " '2',\n",
       " '20',\n",
       " '200',\n",
       " '2000',\n",
       " '20000',\n",
       " '2001',\n",
       " '2002',\n",
       " '2005',\n",
       " '2006',\n",
       " '2008',\n",
       " '200k',\n",
       " '200m',\n",
       " '200yrs',\n",
       " '2010',\n",
       " '2011',\n",
       " '2012',\n",
       " '2013',\n",
       " '2014',\n",
       " '20141023',\n",
       " '2015',\n",
       " '20150505',\n",
       " '201516',\n",
       " '2016',\n",
       " '20160611ktydbbqincidentlolenjoy',\n",
       " '20160612',\n",
       " '2016061220160618',\n",
       " '201606190619sunday',\n",
       " '201617',\n",
       " '20162017',\n",
       " '20162017mufc',\n",
       " '2016busy',\n",
       " '2016election',\n",
       " '2016highlights',\n",
       " '2016in4words',\n",
       " '2016in4wordsâ\\x80¦',\n",
       " '2016in4wordâ\\x80¦',\n",
       " '2016in4worlds',\n",
       " '2016in4â\\x80¦',\n",
       " '2016inâ\\x80¦',\n",
       " '2016iâ\\x80¦',\n",
       " '2016macaugift',\n",
       " '2016neotour',\n",
       " '2016release',\n",
       " '2016â\\x80¦',\n",
       " '2016â\\x9d¤ï¸\\x8fð\\x9f\\x92\\x9cð\\x9f\\x92\\x9bð\\x9f\\x92\\x9a',\n",
       " '2017',\n",
       " '2017fail',\n",
       " '2017in3words',\n",
       " '2017in3wordsâ\\x80¦',\n",
       " '2017npr',\n",
       " '2017pleasecome',\n",
       " '2018',\n",
       " '201â\\x80¦',\n",
       " '2020',\n",
       " '2023',\n",
       " '2026',\n",
       " '202k',\n",
       " '2030',\n",
       " '2077',\n",
       " '2095m',\n",
       " '20cricket',\n",
       " '20days',\n",
       " '20flaglerstreet',\n",
       " '20k',\n",
       " '20km',\n",
       " '20likes',\n",
       " '20million',\n",
       " '20mins',\n",
       " '20monthsold',\n",
       " '20poundnote',\n",
       " '20th',\n",
       " '20yrs',\n",
       " '20Â°c',\n",
       " '20æ\\xad³',\n",
       " '21',\n",
       " '2100',\n",
       " '2101',\n",
       " '214lbs',\n",
       " '215pm',\n",
       " '2171m',\n",
       " '218',\n",
       " '2199mmk',\n",
       " '21century',\n",
       " '21ceâ\\x80¦',\n",
       " '21hrlater',\n",
       " '21m49s',\n",
       " '21pilots',\n",
       " '21st',\n",
       " '21thbihday',\n",
       " '21yrs',\n",
       " '21â\\x80¦',\n",
       " '21ð\\x9f\\x92\\xad',\n",
       " '22',\n",
       " '220',\n",
       " '22000',\n",
       " '22092016',\n",
       " '2210',\n",
       " '2230',\n",
       " '224209',\n",
       " '225',\n",
       " '226',\n",
       " '226m',\n",
       " '227',\n",
       " '228',\n",
       " '229',\n",
       " '229lbs',\n",
       " '22drivers',\n",
       " '22g',\n",
       " '22nd',\n",
       " '22ndbihday',\n",
       " '22ndjuly2016',\n",
       " '22ð\\x9f\\x92\\x8bð\\x9f\\x92\\x8bð\\x9f\\x92\\x8b',\n",
       " '23',\n",
       " '230',\n",
       " '230616',\n",
       " '230am',\n",
       " '230pmet',\n",
       " '2311',\n",
       " '23181573',\n",
       " '233',\n",
       " '235',\n",
       " '23hrs',\n",
       " '23m',\n",
       " '23rd',\n",
       " '23s',\n",
       " '23years',\n",
       " '23â\\x80¦',\n",
       " '24',\n",
       " '240',\n",
       " '2400',\n",
       " '240yearold',\n",
       " '241',\n",
       " '241ornothing',\n",
       " '2426',\n",
       " '247',\n",
       " '247365',\n",
       " '2475',\n",
       " '24900',\n",
       " '2499',\n",
       " '2499mkf',\n",
       " '24h',\n",
       " '24hoursinpolice',\n",
       " '24hrs',\n",
       " '24lm',\n",
       " '24pm',\n",
       " '24th',\n",
       " '24yoder',\n",
       " '24Â£10',\n",
       " '25',\n",
       " '250',\n",
       " '2500',\n",
       " '250395',\n",
       " '250days',\n",
       " '250needed',\n",
       " '257wipe',\n",
       " '2599',\n",
       " '25cricket',\n",
       " '25mm',\n",
       " '25pm',\n",
       " '25th',\n",
       " '25years',\n",
       " '25yearsstrong',\n",
       " '26',\n",
       " '2600',\n",
       " '2611',\n",
       " '2615',\n",
       " '26551',\n",
       " '26candles',\n",
       " '26th',\n",
       " '27',\n",
       " '27000',\n",
       " '273',\n",
       " '274m',\n",
       " '27th',\n",
       " '27thour',\n",
       " '28',\n",
       " '280',\n",
       " '2800',\n",
       " '289',\n",
       " '28jun',\n",
       " '28lbsdown',\n",
       " '28th',\n",
       " '28weekspregnant',\n",
       " '28yos',\n",
       " '28Ë\\x9ac',\n",
       " '29',\n",
       " '2900',\n",
       " '293',\n",
       " '294',\n",
       " '296',\n",
       " '298',\n",
       " '299',\n",
       " '29frontier',\n",
       " '29hrs',\n",
       " '29may',\n",
       " '29th',\n",
       " '29thwithrisp',\n",
       " '29weeks',\n",
       " '2a',\n",
       " '2add',\n",
       " '2adds',\n",
       " '2amp',\n",
       " '2amphalf',\n",
       " '2b',\n",
       " '2bcagency',\n",
       " '2bcâ\\x80¦',\n",
       " '2bear',\n",
       " '2c',\n",
       " '2day',\n",
       " '2dayd',\n",
       " '2days',\n",
       " '2daysleft',\n",
       " '2daywho',\n",
       " '2do',\n",
       " '2fa',\n",
       " '2greensboroaka',\n",
       " '2have2',\n",
       " '2hear',\n",
       " '2horrific',\n",
       " '2in1',\n",
       " '2ipad',\n",
       " '2k',\n",
       " '2k15',\n",
       " '2k16',\n",
       " '2k16ð\\x9f\\x8e\\x93',\n",
       " '2keep',\n",
       " '2kfollowers',\n",
       " '2lb',\n",
       " '2leaps',\n",
       " '2likes',\n",
       " '2line',\n",
       " '2miles',\n",
       " '2mill',\n",
       " '2minutebeachclean',\n",
       " '2month',\n",
       " '2more',\n",
       " '2moro',\n",
       " '2mororider',\n",
       " '2morro',\n",
       " '2morrow',\n",
       " '2most',\n",
       " '2muchpower',\n",
       " '2nd',\n",
       " '2ndamendment',\n",
       " '2ne1',\n",
       " '2night',\n",
       " '2nite',\n",
       " '2nites',\n",
       " '2of2',\n",
       " '2off',\n",
       " '2outs',\n",
       " '2pac',\n",
       " '2pearls',\n",
       " '2play',\n",
       " '2pm',\n",
       " '2pm4pm',\n",
       " '2q',\n",
       " '2raise',\n",
       " '2s',\n",
       " '2sharia',\n",
       " '2stand',\n",
       " '2tell',\n",
       " '2the',\n",
       " '2think',\n",
       " '2trains',\n",
       " '2weeks',\n",
       " '2weekstoday',\n",
       " '2wks',\n",
       " '2x04',\n",
       " '2year',\n",
       " '2yearold',\n",
       " '2years',\n",
       " '2yearsâ\\x80¦',\n",
       " '2yo',\n",
       " '2young',\n",
       " '2yr',\n",
       " '2Â',\n",
       " '2Ã\\x9704',\n",
       " '2â\\x80¦',\n",
       " '2ð\\x9f\\x93½ð\\x9f\\x91»movie',\n",
       " '3',\n",
       " '30',\n",
       " '300',\n",
       " '3000',\n",
       " '300dayshappy',\n",
       " '300k',\n",
       " '300th',\n",
       " '301',\n",
       " '302thank',\n",
       " '303gallery',\n",
       " '304',\n",
       " '304pm',\n",
       " '308',\n",
       " '30bihday',\n",
       " '30daylifechallenge',\n",
       " '30daysofbagrrys',\n",
       " '30daysofcreation',\n",
       " '30dayswild',\n",
       " '30for30',\n",
       " '30isthenew20',\n",
       " '30s',\n",
       " '30stm',\n",
       " '30th',\n",
       " '30thð\\x9f\\x91\\x91',\n",
       " '30tomorrow',\n",
       " '30year',\n",
       " '30æ\\xad³',\n",
       " '31',\n",
       " '316xnfg',\n",
       " '318',\n",
       " '319',\n",
       " '31st',\n",
       " '31today',\n",
       " '32',\n",
       " '321',\n",
       " '3226m',\n",
       " '3236b',\n",
       " '327',\n",
       " '3271',\n",
       " '328',\n",
       " '329am',\n",
       " '32minutes',\n",
       " '32Â',\n",
       " '33',\n",
       " '330',\n",
       " '33000',\n",
       " '330am',\n",
       " '33100',\n",
       " '333',\n",
       " '3334',\n",
       " '334',\n",
       " '335',\n",
       " '336lbs',\n",
       " '338',\n",
       " '33hrschool',\n",
       " '33th',\n",
       " '33weeks',\n",
       " '33æ\\xad³â\\x80¦',\n",
       " '34',\n",
       " '340',\n",
       " '3400',\n",
       " '342',\n",
       " '3425',\n",
       " '349',\n",
       " '34th',\n",
       " '35',\n",
       " '350',\n",
       " '3500',\n",
       " '350s',\n",
       " '355',\n",
       " '356',\n",
       " '357',\n",
       " '35mins',\n",
       " '35th',\n",
       " '36',\n",
       " '360',\n",
       " '3600',\n",
       " '360lifestyle',\n",
       " '360video',\n",
       " '363',\n",
       " '364',\n",
       " '365',\n",
       " '3650',\n",
       " '365black',\n",
       " '366',\n",
       " '366days',\n",
       " '366photos2016',\n",
       " '36pm',\n",
       " '36weeks',\n",
       " '37',\n",
       " '374',\n",
       " '37b',\n",
       " '37days',\n",
       " '38',\n",
       " '3818',\n",
       " '385',\n",
       " '386',\n",
       " '3866',\n",
       " '38billion',\n",
       " '38k',\n",
       " '39',\n",
       " '391',\n",
       " '399',\n",
       " '3999',\n",
       " '3aday',\n",
       " '3am',\n",
       " '3athlonlife',\n",
       " '3become4',\n",
       " '3bookstogo',\n",
       " '3d',\n",
       " '3days',\n",
       " '3daysleft',\n",
       " '3dcommerce',\n",
       " '3ddesign',\n",
       " '3dhâ\\x80¦',\n",
       " '3dmodelling',\n",
       " '3dprint',\n",
       " '3dprinting',\n",
       " '3fridaynights',\n",
       " '3g',\n",
       " '3gswing',\n",
       " '3hrs',\n",
       " '3jul',\n",
       " '3k',\n",
       " '3lines',\n",
       " '3m',\n",
       " '3mi',\n",
       " '3months',\n",
       " '3pm',\n",
       " '3qw',\n",
       " '3rd',\n",
       " '3rdplace',\n",
       " '3rdâ\\x80¦',\n",
       " '3rs',\n",
       " '3s',\n",
       " '3to6',\n",
       " '3worldnews',\n",
       " '3x',\n",
       " '3yearold',\n",
       " '3years',\n",
       " '3yearsinarow',\n",
       " '3yearswithbts',\n",
       " '3yr',\n",
       " '3â\\x80¦',\n",
       " '4',\n",
       " '40',\n",
       " '400',\n",
       " '4000',\n",
       " '400000',\n",
       " '404',\n",
       " '40404',\n",
       " '405',\n",
       " '407',\n",
       " '40points',\n",
       " '40s',\n",
       " '40th',\n",
       " '40years',\n",
       " '410',\n",
       " '411',\n",
       " '41167',\n",
       " '411am',\n",
       " '4121861',\n",
       " '41s',\n",
       " '41Â',\n",
       " '42',\n",
       " '420',\n",
       " '426',\n",
       " '42k',\n",
       " '42ndstreet',\n",
       " '43',\n",
       " '435',\n",
       " '44',\n",
       " ...]"
      ]
     },
     "execution_count": 32,
     "metadata": {},
     "output_type": "execute_result"
    }
   ],
   "source": [
    "vectorizer.get_feature_names()"
   ]
  },
  {
   "cell_type": "code",
   "execution_count": 33,
   "id": "84443e7a",
   "metadata": {
    "execution": {
     "iopub.execute_input": "2024-04-25T17:17:40.406925Z",
     "iopub.status.busy": "2024-04-25T17:17:40.406242Z",
     "iopub.status.idle": "2024-04-25T17:17:41.033270Z",
     "shell.execute_reply": "2024-04-25T17:17:41.032538Z",
     "shell.execute_reply.started": "2024-04-25T16:50:43.305389Z"
    },
    "papermill": {
     "duration": 0.691606,
     "end_time": "2024-04-25T17:17:41.033431",
     "exception": false,
     "start_time": "2024-04-25T17:17:40.341825",
     "status": "completed"
    },
    "tags": []
   },
   "outputs": [
    {
     "name": "stdout",
     "output_type": "stream",
     "text": [
      "[[0 0 0 ... 0 0 0]\n",
      " [0 0 0 ... 0 0 0]\n",
      " [0 0 0 ... 0 0 0]\n",
      " ...\n",
      " [0 0 0 ... 0 0 0]\n",
      " [0 0 0 ... 0 0 0]\n",
      " [0 0 0 ... 0 0 0]]\n"
     ]
    }
   ],
   "source": [
    "print(tweets_countvectorizer.toarray())  "
   ]
  },
  {
   "cell_type": "code",
   "execution_count": 34,
   "id": "72cc56f0",
   "metadata": {
    "execution": {
     "iopub.execute_input": "2024-04-25T17:17:41.166598Z",
     "iopub.status.busy": "2024-04-25T17:17:41.165809Z",
     "iopub.status.idle": "2024-04-25T17:17:41.168593Z",
     "shell.execute_reply": "2024-04-25T17:17:41.169163Z",
     "shell.execute_reply.started": "2024-04-25T16:50:43.902489Z"
    },
    "papermill": {
     "duration": 0.073308,
     "end_time": "2024-04-25T17:17:41.169359",
     "exception": false,
     "start_time": "2024-04-25T17:17:41.096051",
     "status": "completed"
    },
    "tags": []
   },
   "outputs": [
    {
     "data": {
      "text/plain": [
       "(31962, 47386)"
      ]
     },
     "execution_count": 34,
     "metadata": {},
     "output_type": "execute_result"
    }
   ],
   "source": [
    "tweets_countvectorizer.shape"
   ]
  },
  {
   "cell_type": "code",
   "execution_count": 35,
   "id": "b296b050",
   "metadata": {
    "execution": {
     "iopub.execute_input": "2024-04-25T17:17:41.299768Z",
     "iopub.status.busy": "2024-04-25T17:17:41.299027Z",
     "iopub.status.idle": "2024-04-25T17:17:41.827553Z",
     "shell.execute_reply": "2024-04-25T17:17:41.826910Z",
     "shell.execute_reply.started": "2024-04-25T16:50:43.910261Z"
    },
    "papermill": {
     "duration": 0.596233,
     "end_time": "2024-04-25T17:17:41.827707",
     "exception": false,
     "start_time": "2024-04-25T17:17:41.231474",
     "status": "completed"
    },
    "tags": []
   },
   "outputs": [
    {
     "data": {
      "text/html": [
       "<div>\n",
       "<style scoped>\n",
       "    .dataframe tbody tr th:only-of-type {\n",
       "        vertical-align: middle;\n",
       "    }\n",
       "\n",
       "    .dataframe tbody tr th {\n",
       "        vertical-align: top;\n",
       "    }\n",
       "\n",
       "    .dataframe thead th {\n",
       "        text-align: right;\n",
       "    }\n",
       "</style>\n",
       "<table border=\"1\" class=\"dataframe\">\n",
       "  <thead>\n",
       "    <tr style=\"text-align: right;\">\n",
       "      <th></th>\n",
       "      <th>0</th>\n",
       "      <th>1</th>\n",
       "      <th>2</th>\n",
       "      <th>3</th>\n",
       "      <th>4</th>\n",
       "      <th>5</th>\n",
       "      <th>6</th>\n",
       "      <th>7</th>\n",
       "      <th>8</th>\n",
       "      <th>9</th>\n",
       "      <th>...</th>\n",
       "      <th>47376</th>\n",
       "      <th>47377</th>\n",
       "      <th>47378</th>\n",
       "      <th>47379</th>\n",
       "      <th>47380</th>\n",
       "      <th>47381</th>\n",
       "      <th>47382</th>\n",
       "      <th>47383</th>\n",
       "      <th>47384</th>\n",
       "      <th>47385</th>\n",
       "    </tr>\n",
       "  </thead>\n",
       "  <tbody>\n",
       "    <tr>\n",
       "      <th>0</th>\n",
       "      <td>0</td>\n",
       "      <td>0</td>\n",
       "      <td>0</td>\n",
       "      <td>0</td>\n",
       "      <td>0</td>\n",
       "      <td>0</td>\n",
       "      <td>0</td>\n",
       "      <td>0</td>\n",
       "      <td>0</td>\n",
       "      <td>0</td>\n",
       "      <td>...</td>\n",
       "      <td>0</td>\n",
       "      <td>0</td>\n",
       "      <td>0</td>\n",
       "      <td>0</td>\n",
       "      <td>0</td>\n",
       "      <td>0</td>\n",
       "      <td>0</td>\n",
       "      <td>0</td>\n",
       "      <td>0</td>\n",
       "      <td>0</td>\n",
       "    </tr>\n",
       "    <tr>\n",
       "      <th>1</th>\n",
       "      <td>0</td>\n",
       "      <td>0</td>\n",
       "      <td>0</td>\n",
       "      <td>0</td>\n",
       "      <td>0</td>\n",
       "      <td>0</td>\n",
       "      <td>0</td>\n",
       "      <td>0</td>\n",
       "      <td>0</td>\n",
       "      <td>0</td>\n",
       "      <td>...</td>\n",
       "      <td>0</td>\n",
       "      <td>0</td>\n",
       "      <td>0</td>\n",
       "      <td>0</td>\n",
       "      <td>0</td>\n",
       "      <td>0</td>\n",
       "      <td>0</td>\n",
       "      <td>0</td>\n",
       "      <td>0</td>\n",
       "      <td>0</td>\n",
       "    </tr>\n",
       "    <tr>\n",
       "      <th>2</th>\n",
       "      <td>0</td>\n",
       "      <td>0</td>\n",
       "      <td>0</td>\n",
       "      <td>0</td>\n",
       "      <td>0</td>\n",
       "      <td>0</td>\n",
       "      <td>0</td>\n",
       "      <td>0</td>\n",
       "      <td>0</td>\n",
       "      <td>0</td>\n",
       "      <td>...</td>\n",
       "      <td>0</td>\n",
       "      <td>0</td>\n",
       "      <td>0</td>\n",
       "      <td>0</td>\n",
       "      <td>0</td>\n",
       "      <td>0</td>\n",
       "      <td>0</td>\n",
       "      <td>0</td>\n",
       "      <td>0</td>\n",
       "      <td>0</td>\n",
       "    </tr>\n",
       "    <tr>\n",
       "      <th>3</th>\n",
       "      <td>0</td>\n",
       "      <td>0</td>\n",
       "      <td>0</td>\n",
       "      <td>0</td>\n",
       "      <td>0</td>\n",
       "      <td>0</td>\n",
       "      <td>0</td>\n",
       "      <td>0</td>\n",
       "      <td>0</td>\n",
       "      <td>0</td>\n",
       "      <td>...</td>\n",
       "      <td>0</td>\n",
       "      <td>0</td>\n",
       "      <td>0</td>\n",
       "      <td>0</td>\n",
       "      <td>0</td>\n",
       "      <td>0</td>\n",
       "      <td>0</td>\n",
       "      <td>0</td>\n",
       "      <td>0</td>\n",
       "      <td>0</td>\n",
       "    </tr>\n",
       "    <tr>\n",
       "      <th>4</th>\n",
       "      <td>0</td>\n",
       "      <td>0</td>\n",
       "      <td>0</td>\n",
       "      <td>0</td>\n",
       "      <td>0</td>\n",
       "      <td>0</td>\n",
       "      <td>0</td>\n",
       "      <td>0</td>\n",
       "      <td>0</td>\n",
       "      <td>0</td>\n",
       "      <td>...</td>\n",
       "      <td>0</td>\n",
       "      <td>0</td>\n",
       "      <td>0</td>\n",
       "      <td>0</td>\n",
       "      <td>0</td>\n",
       "      <td>0</td>\n",
       "      <td>0</td>\n",
       "      <td>0</td>\n",
       "      <td>0</td>\n",
       "      <td>0</td>\n",
       "    </tr>\n",
       "    <tr>\n",
       "      <th>...</th>\n",
       "      <td>...</td>\n",
       "      <td>...</td>\n",
       "      <td>...</td>\n",
       "      <td>...</td>\n",
       "      <td>...</td>\n",
       "      <td>...</td>\n",
       "      <td>...</td>\n",
       "      <td>...</td>\n",
       "      <td>...</td>\n",
       "      <td>...</td>\n",
       "      <td>...</td>\n",
       "      <td>...</td>\n",
       "      <td>...</td>\n",
       "      <td>...</td>\n",
       "      <td>...</td>\n",
       "      <td>...</td>\n",
       "      <td>...</td>\n",
       "      <td>...</td>\n",
       "      <td>...</td>\n",
       "      <td>...</td>\n",
       "      <td>...</td>\n",
       "    </tr>\n",
       "    <tr>\n",
       "      <th>31957</th>\n",
       "      <td>0</td>\n",
       "      <td>0</td>\n",
       "      <td>0</td>\n",
       "      <td>0</td>\n",
       "      <td>0</td>\n",
       "      <td>0</td>\n",
       "      <td>0</td>\n",
       "      <td>0</td>\n",
       "      <td>0</td>\n",
       "      <td>0</td>\n",
       "      <td>...</td>\n",
       "      <td>0</td>\n",
       "      <td>0</td>\n",
       "      <td>0</td>\n",
       "      <td>0</td>\n",
       "      <td>0</td>\n",
       "      <td>0</td>\n",
       "      <td>0</td>\n",
       "      <td>0</td>\n",
       "      <td>0</td>\n",
       "      <td>0</td>\n",
       "    </tr>\n",
       "    <tr>\n",
       "      <th>31958</th>\n",
       "      <td>0</td>\n",
       "      <td>0</td>\n",
       "      <td>0</td>\n",
       "      <td>0</td>\n",
       "      <td>0</td>\n",
       "      <td>0</td>\n",
       "      <td>0</td>\n",
       "      <td>0</td>\n",
       "      <td>0</td>\n",
       "      <td>0</td>\n",
       "      <td>...</td>\n",
       "      <td>0</td>\n",
       "      <td>0</td>\n",
       "      <td>0</td>\n",
       "      <td>0</td>\n",
       "      <td>0</td>\n",
       "      <td>0</td>\n",
       "      <td>0</td>\n",
       "      <td>0</td>\n",
       "      <td>0</td>\n",
       "      <td>0</td>\n",
       "    </tr>\n",
       "    <tr>\n",
       "      <th>31959</th>\n",
       "      <td>0</td>\n",
       "      <td>0</td>\n",
       "      <td>0</td>\n",
       "      <td>0</td>\n",
       "      <td>0</td>\n",
       "      <td>0</td>\n",
       "      <td>0</td>\n",
       "      <td>0</td>\n",
       "      <td>0</td>\n",
       "      <td>0</td>\n",
       "      <td>...</td>\n",
       "      <td>0</td>\n",
       "      <td>0</td>\n",
       "      <td>0</td>\n",
       "      <td>0</td>\n",
       "      <td>0</td>\n",
       "      <td>0</td>\n",
       "      <td>0</td>\n",
       "      <td>0</td>\n",
       "      <td>0</td>\n",
       "      <td>0</td>\n",
       "    </tr>\n",
       "    <tr>\n",
       "      <th>31960</th>\n",
       "      <td>0</td>\n",
       "      <td>0</td>\n",
       "      <td>0</td>\n",
       "      <td>0</td>\n",
       "      <td>0</td>\n",
       "      <td>0</td>\n",
       "      <td>0</td>\n",
       "      <td>0</td>\n",
       "      <td>0</td>\n",
       "      <td>0</td>\n",
       "      <td>...</td>\n",
       "      <td>0</td>\n",
       "      <td>0</td>\n",
       "      <td>0</td>\n",
       "      <td>0</td>\n",
       "      <td>0</td>\n",
       "      <td>0</td>\n",
       "      <td>0</td>\n",
       "      <td>0</td>\n",
       "      <td>0</td>\n",
       "      <td>0</td>\n",
       "    </tr>\n",
       "    <tr>\n",
       "      <th>31961</th>\n",
       "      <td>0</td>\n",
       "      <td>0</td>\n",
       "      <td>0</td>\n",
       "      <td>0</td>\n",
       "      <td>0</td>\n",
       "      <td>0</td>\n",
       "      <td>0</td>\n",
       "      <td>0</td>\n",
       "      <td>0</td>\n",
       "      <td>0</td>\n",
       "      <td>...</td>\n",
       "      <td>0</td>\n",
       "      <td>0</td>\n",
       "      <td>0</td>\n",
       "      <td>0</td>\n",
       "      <td>0</td>\n",
       "      <td>0</td>\n",
       "      <td>0</td>\n",
       "      <td>0</td>\n",
       "      <td>0</td>\n",
       "      <td>0</td>\n",
       "    </tr>\n",
       "  </tbody>\n",
       "</table>\n",
       "<p>31962 rows × 47386 columns</p>\n",
       "</div>"
      ],
      "text/plain": [
       "       0      1      2      3      4      5      6      7      8      9      \\\n",
       "0          0      0      0      0      0      0      0      0      0      0   \n",
       "1          0      0      0      0      0      0      0      0      0      0   \n",
       "2          0      0      0      0      0      0      0      0      0      0   \n",
       "3          0      0      0      0      0      0      0      0      0      0   \n",
       "4          0      0      0      0      0      0      0      0      0      0   \n",
       "...      ...    ...    ...    ...    ...    ...    ...    ...    ...    ...   \n",
       "31957      0      0      0      0      0      0      0      0      0      0   \n",
       "31958      0      0      0      0      0      0      0      0      0      0   \n",
       "31959      0      0      0      0      0      0      0      0      0      0   \n",
       "31960      0      0      0      0      0      0      0      0      0      0   \n",
       "31961      0      0      0      0      0      0      0      0      0      0   \n",
       "\n",
       "       ...  47376  47377  47378  47379  47380  47381  47382  47383  47384  \\\n",
       "0      ...      0      0      0      0      0      0      0      0      0   \n",
       "1      ...      0      0      0      0      0      0      0      0      0   \n",
       "2      ...      0      0      0      0      0      0      0      0      0   \n",
       "3      ...      0      0      0      0      0      0      0      0      0   \n",
       "4      ...      0      0      0      0      0      0      0      0      0   \n",
       "...    ...    ...    ...    ...    ...    ...    ...    ...    ...    ...   \n",
       "31957  ...      0      0      0      0      0      0      0      0      0   \n",
       "31958  ...      0      0      0      0      0      0      0      0      0   \n",
       "31959  ...      0      0      0      0      0      0      0      0      0   \n",
       "31960  ...      0      0      0      0      0      0      0      0      0   \n",
       "31961  ...      0      0      0      0      0      0      0      0      0   \n",
       "\n",
       "       47385  \n",
       "0          0  \n",
       "1          0  \n",
       "2          0  \n",
       "3          0  \n",
       "4          0  \n",
       "...      ...  \n",
       "31957      0  \n",
       "31958      0  \n",
       "31959      0  \n",
       "31960      0  \n",
       "31961      0  \n",
       "\n",
       "[31962 rows x 47386 columns]"
      ]
     },
     "execution_count": 35,
     "metadata": {},
     "output_type": "execute_result"
    }
   ],
   "source": [
    "tweets = pd.DataFrame(tweets_countvectorizer.toarray())\n",
    "\n",
    "X = tweets\n",
    "\n",
    "X"
   ]
  },
  {
   "cell_type": "code",
   "execution_count": 36,
   "id": "2bcd3fab",
   "metadata": {
    "execution": {
     "iopub.execute_input": "2024-04-25T17:17:41.960250Z",
     "iopub.status.busy": "2024-04-25T17:17:41.959473Z",
     "iopub.status.idle": "2024-04-25T17:17:41.961527Z",
     "shell.execute_reply": "2024-04-25T17:17:41.962030Z",
     "shell.execute_reply.started": "2024-04-25T16:50:44.471288Z"
    },
    "papermill": {
     "duration": 0.070758,
     "end_time": "2024-04-25T17:17:41.962227",
     "exception": false,
     "start_time": "2024-04-25T17:17:41.891469",
     "status": "completed"
    },
    "tags": []
   },
   "outputs": [],
   "source": [
    "y = tweets_df['label']"
   ]
  },
  {
   "cell_type": "markdown",
   "id": "411e5ee4",
   "metadata": {
    "papermill": {
     "duration": 0.063477,
     "end_time": "2024-04-25T17:17:42.091000",
     "exception": false,
     "start_time": "2024-04-25T17:17:42.027523",
     "status": "completed"
    },
    "tags": []
   },
   "source": [
    "# Working of Naive Bayes Theoram"
   ]
  },
  {
   "cell_type": "code",
   "execution_count": 37,
   "id": "9c43a1a8",
   "metadata": {
    "execution": {
     "iopub.execute_input": "2024-04-25T17:17:42.222231Z",
     "iopub.status.busy": "2024-04-25T17:17:42.221479Z",
     "iopub.status.idle": "2024-04-25T17:17:42.224547Z",
     "shell.execute_reply": "2024-04-25T17:17:42.225082Z",
     "shell.execute_reply.started": "2024-04-25T16:50:44.478373Z"
    },
    "papermill": {
     "duration": 0.069672,
     "end_time": "2024-04-25T17:17:42.225273",
     "exception": false,
     "start_time": "2024-04-25T17:17:42.155601",
     "status": "completed"
    },
    "tags": []
   },
   "outputs": [],
   "source": [
    "# Naive Bayes is a classification technique based on bayes theoram\n",
    "# The theoram works on conditional Probability and Mathematics\n",
    "\n",
    "# PRIOR PROBABILITY --> Probability of assuming before, performing the experiment.\n",
    "# LIKLIHOOD PROBABILITY --> Probability of assuming while performing the experiment.\n",
    "# POSTERIOR PROBABILITY --> Probability by combining both prior and liklihood probability.\n",
    "\n",
    "# Formula of Naive Bayes Theoram:\n",
    "#    P(A|B) = (P(B|A) * p(A)) / P(B)"
   ]
  },
  {
   "cell_type": "markdown",
   "id": "db531e35",
   "metadata": {
    "papermill": {
     "duration": 0.063476,
     "end_time": "2024-04-25T17:17:42.356182",
     "exception": false,
     "start_time": "2024-04-25T17:17:42.292706",
     "status": "completed"
    },
    "tags": []
   },
   "source": [
    "# Training the Model"
   ]
  },
  {
   "cell_type": "code",
   "execution_count": 38,
   "id": "9f2df80d",
   "metadata": {
    "execution": {
     "iopub.execute_input": "2024-04-25T17:17:42.484763Z",
     "iopub.status.busy": "2024-04-25T17:17:42.484037Z",
     "iopub.status.idle": "2024-04-25T17:17:42.489354Z",
     "shell.execute_reply": "2024-04-25T17:17:42.488675Z",
     "shell.execute_reply.started": "2024-04-25T16:50:44.490966Z"
    },
    "papermill": {
     "duration": 0.070803,
     "end_time": "2024-04-25T17:17:42.489501",
     "exception": false,
     "start_time": "2024-04-25T17:17:42.418698",
     "status": "completed"
    },
    "tags": []
   },
   "outputs": [
    {
     "name": "stdout",
     "output_type": "stream",
     "text": [
      "(31962, 47386)\n",
      "(31962,)\n"
     ]
    }
   ],
   "source": [
    "print(X.shape)\n",
    "\n",
    "print(y.shape)"
   ]
  },
  {
   "cell_type": "code",
   "execution_count": 39,
   "id": "46be9d7f",
   "metadata": {
    "execution": {
     "iopub.execute_input": "2024-04-25T17:17:42.624486Z",
     "iopub.status.busy": "2024-04-25T17:17:42.623720Z",
     "iopub.status.idle": "2024-04-25T17:18:32.420080Z",
     "shell.execute_reply": "2024-04-25T17:18:32.420679Z",
     "shell.execute_reply.started": "2024-04-25T16:58:36.530919Z"
    },
    "papermill": {
     "duration": 49.867813,
     "end_time": "2024-04-25T17:18:32.420865",
     "exception": false,
     "start_time": "2024-04-25T17:17:42.553052",
     "status": "completed"
    },
    "tags": []
   },
   "outputs": [
    {
     "name": "stdout",
     "output_type": "stream",
     "text": [
      "0    29720\n",
      "1    29720\n",
      "Name: label, dtype: int64\n"
     ]
    }
   ],
   "source": [
    "from sklearn.model_selection import train_test_split\n",
    "from imblearn.over_sampling import RandomOverSampler\n",
    "from imblearn.under_sampling import RandomUnderSampler\n",
    "\n",
    "# Define oversampling strategy\n",
    "oversampler = RandomOverSampler(sampling_strategy='minority')\n",
    "\n",
    "# Perform oversampling on the dataset\n",
    "X_resampled, y_resampled = oversampler.fit_resample(X, y)\n",
    "\n",
    "# Check the new class distribution\n",
    "print(pd.Series(y_resampled).value_counts())\n",
    "\n",
    "# Split the resampled data into train and test sets\n",
    "X_train, X_test, y_train, y_test = train_test_split(X_resampled, y_resampled, test_size=0.2)"
   ]
  },
  {
   "cell_type": "code",
   "execution_count": 40,
   "id": "7fdee8a8",
   "metadata": {
    "execution": {
     "iopub.execute_input": "2024-04-25T17:18:32.560150Z",
     "iopub.status.busy": "2024-04-25T17:18:32.559255Z",
     "iopub.status.idle": "2024-04-25T17:20:01.721794Z",
     "shell.execute_reply": "2024-04-25T17:20:01.722363Z",
     "shell.execute_reply.started": "2024-04-25T16:59:26.491714Z"
    },
    "papermill": {
     "duration": 89.233731,
     "end_time": "2024-04-25T17:20:01.722561",
     "exception": false,
     "start_time": "2024-04-25T17:18:32.488830",
     "status": "completed"
    },
    "tags": []
   },
   "outputs": [
    {
     "data": {
      "text/plain": [
       "MultinomialNB()"
      ]
     },
     "execution_count": 40,
     "metadata": {},
     "output_type": "execute_result"
    }
   ],
   "source": [
    "from sklearn.naive_bayes import MultinomialNB\n",
    "\n",
    "NB_classifier = MultinomialNB()\n",
    "NB_classifier.fit(X_train, y_train)"
   ]
  },
  {
   "cell_type": "code",
   "execution_count": 41,
   "id": "747e6495",
   "metadata": {
    "execution": {
     "iopub.execute_input": "2024-04-25T17:20:01.860647Z",
     "iopub.status.busy": "2024-04-25T17:20:01.859545Z",
     "iopub.status.idle": "2024-04-25T17:20:02.919092Z",
     "shell.execute_reply": "2024-04-25T17:20:02.918482Z",
     "shell.execute_reply.started": "2024-04-25T17:05:29.241221Z"
    },
    "papermill": {
     "duration": 1.132037,
     "end_time": "2024-04-25T17:20:02.919260",
     "exception": false,
     "start_time": "2024-04-25T17:20:01.787223",
     "status": "completed"
    },
    "tags": []
   },
   "outputs": [
    {
     "data": {
      "image/png": "[encoded data removed]",
      "text/plain": [
       "<Figure size 576x432 with 1 Axes>"
      ]
     },
     "metadata": {
      "needs_background": "light"
     },
     "output_type": "display_data"
    }
   ],
   "source": [
    "import seaborn as sns\n",
    "\n",
    "# Concatenate the training data for visualization\n",
    "train_data_resampled = pd.concat([pd.DataFrame(X_train), pd.DataFrame(y_train, columns=['label'])], axis=1)\n",
    "\n",
    "# Plot the countplot\n",
    "plt.figure(figsize=(8, 6))\n",
    "sns.countplot(data=train_data_resampled, x='label')\n",
    "plt.title('Count of Positive and Negative Tweets in Training Data')\n",
    "plt.xlabel('Sentiment Label')\n",
    "plt.ylabel('Count')\n",
    "plt.xticks(ticks=[0, 1], labels=['Negative', 'Positive'])\n",
    "plt.show()"
   ]
  },
  {
   "cell_type": "markdown",
   "id": "a8074c7b",
   "metadata": {
    "papermill": {
     "duration": 0.07099,
     "end_time": "2024-04-25T17:20:03.057380",
     "exception": false,
     "start_time": "2024-04-25T17:20:02.986390",
     "status": "completed"
    },
    "tags": []
   },
   "source": [
    "# Assess the Model Performance using Confusion Matrix"
   ]
  },
  {
   "cell_type": "code",
   "execution_count": 42,
   "id": "f030c6c5",
   "metadata": {
    "execution": {
     "iopub.execute_input": "2024-04-25T17:20:03.202474Z",
     "iopub.status.busy": "2024-04-25T17:20:03.201551Z",
     "iopub.status.idle": "2024-04-25T17:20:03.204273Z",
     "shell.execute_reply": "2024-04-25T17:20:03.203698Z",
     "shell.execute_reply.started": "2024-04-25T16:51:10.539079Z"
    },
    "papermill": {
     "duration": 0.077417,
     "end_time": "2024-04-25T17:20:03.204434",
     "exception": false,
     "start_time": "2024-04-25T17:20:03.127017",
     "status": "completed"
    },
    "tags": []
   },
   "outputs": [],
   "source": [
    "# Confusion Matrix --> Compares true value with predicted value "
   ]
  },
  {
   "cell_type": "code",
   "execution_count": 43,
   "id": "4e7153ef",
   "metadata": {
    "execution": {
     "iopub.execute_input": "2024-04-25T17:20:03.348240Z",
     "iopub.status.busy": "2024-04-25T17:20:03.347445Z",
     "iopub.status.idle": "2024-04-25T17:20:12.850332Z",
     "shell.execute_reply": "2024-04-25T17:20:12.849212Z",
     "shell.execute_reply.started": "2024-04-25T17:01:20.106044Z"
    },
    "papermill": {
     "duration": 9.57529,
     "end_time": "2024-04-25T17:20:12.850741",
     "exception": false,
     "start_time": "2024-04-25T17:20:03.275451",
     "status": "completed"
    },
    "tags": []
   },
   "outputs": [
    {
     "data": {
      "text/plain": [
       "<AxesSubplot:>"
      ]
     },
     "execution_count": 43,
     "metadata": {},
     "output_type": "execute_result"
    },
    {
     "data": {
      "image/png": "[encoded data removed]",
      "text/plain": [
       "<Figure size 432x288 with 2 Axes>"
      ]
     },
     "metadata": {
      "needs_background": "light"
     },
     "output_type": "display_data"
    }
   ],
   "source": [
    "from sklearn.metrics import classification_report, confusion_matrix\n",
    "\n",
    "# Predicting the Test set results\n",
    "y_predict_test = NB_classifier.predict(X_test)\n",
    "cm = confusion_matrix(y_test, y_predict_test)\n",
    "sns.heatmap(cm, annot=True)"
   ]
  },
  {
   "cell_type": "code",
   "execution_count": 44,
   "id": "2c2d7dde",
   "metadata": {
    "execution": {
     "iopub.execute_input": "2024-04-25T17:20:13.012365Z",
     "iopub.status.busy": "2024-04-25T17:20:13.011638Z",
     "iopub.status.idle": "2024-04-25T17:20:13.038386Z",
     "shell.execute_reply": "2024-04-25T17:20:13.039010Z",
     "shell.execute_reply.started": "2024-04-25T17:01:38.070827Z"
    },
    "papermill": {
     "duration": 0.099996,
     "end_time": "2024-04-25T17:20:13.039211",
     "exception": false,
     "start_time": "2024-04-25T17:20:12.939215",
     "status": "completed"
    },
    "tags": []
   },
   "outputs": [
    {
     "name": "stdout",
     "output_type": "stream",
     "text": [
      "              precision    recall  f1-score   support\n",
      "\n",
      "           0       0.99      0.92      0.96      5977\n",
      "           1       0.93      0.99      0.96      5911\n",
      "\n",
      "    accuracy                           0.96     11888\n",
      "   macro avg       0.96      0.96      0.96     11888\n",
      "weighted avg       0.96      0.96      0.96     11888\n",
      "\n"
     ]
    }
   ],
   "source": [
    "print(classification_report(y_test, y_predict_test))"
   ]
  },
  {
   "cell_type": "markdown",
   "id": "53a38e15",
   "metadata": {
    "papermill": {
     "duration": 0.068518,
     "end_time": "2024-04-25T17:20:13.177152",
     "exception": false,
     "start_time": "2024-04-25T17:20:13.108634",
     "status": "completed"
    },
    "tags": []
   },
   "source": [
    "# Thank You for Visiting my Notebook"
   ]
  },
  {
   "cell_type": "code",
   "execution_count": 45,
   "id": "cf4e4dc4",
   "metadata": {
    "execution": {
     "iopub.execute_input": "2024-04-25T17:20:13.316601Z",
     "iopub.status.busy": "2024-04-25T17:20:13.315912Z",
     "iopub.status.idle": "2024-04-25T17:20:13.334491Z",
     "shell.execute_reply": "2024-04-25T17:20:13.335091Z",
     "shell.execute_reply.started": "2024-04-25T17:14:28.494390Z"
    },
    "papermill": {
     "duration": 0.088807,
     "end_time": "2024-04-25T17:20:13.335284",
     "exception": false,
     "start_time": "2024-04-25T17:20:13.246477",
     "status": "completed"
    },
    "tags": []
   },
   "outputs": [
    {
     "name": "stdout",
     "output_type": "stream",
     "text": [
      "Prediction: Positive\n",
      "Prediction: Negative\n",
      "Prediction: Negative\n"
     ]
    }
   ],
   "source": [
    "# Step 1: Preprocess the Input Tweet\n",
    "def preprocess_tweet(tweet):\n",
    "    cleaned_tweet = message_cleaning(tweet)  # Using the same cleaning pipeline\n",
    "    return ' '.join(cleaned_tweet)  # Join the cleaned tokens back into a single string\n",
    "\n",
    "# Step 2: Vectorize the Processed Tweet\n",
    "def vectorize_tweet(tweet):\n",
    "    cleaned_tweet = preprocess_tweet(tweet)\n",
    "    tweet_vector = vectorizer.transform([cleaned_tweet])  # Use the trained CountVectorizer\n",
    "    return tweet_vector\n",
    "\n",
    "# Step 3: Make Prediction\n",
    "def predict_sentiment(tweet):\n",
    "    tweet_vector = vectorize_tweet(tweet)\n",
    "    prediction = NB_classifier.predict(tweet_vector)\n",
    "    if prediction == 0:\n",
    "        return \"Positive\"\n",
    "    else:\n",
    "        return \"Negative\"\n",
    "\n",
    "# Example Usage\n",
    "input_tweet = \"I love this movie, it's amazing!\"\n",
    "prediction = predict_sentiment(input_tweet)\n",
    "print(\"Prediction:\", prediction)\n",
    "input_tweet2 = \"no comment!  in #australia   #opkillingbay #seashepherd #helpcovedolphins #thecove  #helpcovedolphins\"\n",
    "prediction2 = predict_sentiment(input_tweet2)\n",
    "print(\"Prediction:\", prediction2)\n",
    "input_tweet3 = \"poor performance,no comment\"\n",
    "prediction3 = predict_sentiment(input_tweet3)\n",
    "print(\"Prediction:\", prediction3)"
   ]
  }
 ],
 "metadata": {
  "kaggle": {
   "accelerator": "none",
   "dataSources": [
    {
     "datasetId": 1961233,
     "sourceId": 6071894,
     "sourceType": "datasetVersion"
    }
   ],
   "dockerImageVersionId": 30162,
   "isGpuEnabled": false,
   "isInternetEnabled": false,
   "language": "python",
   "sourceType": "notebook"
  },
  "kernelspec": {
   "display_name": "Python 3",
   "language": "python",
   "name": "python3"
  },
  "language_info": {
   "codemirror_mode": {
    "name": "ipython",
    "version": 3
   },
   "file_extension": ".py",
   "mimetype": "text/x-python",
   "name": "python",
   "nbconvert_exporter": "python",
   "pygments_lexer": "ipython3",
   "version": "3.7.12"
  },
  "papermill": {
   "default_parameters": {},
   "duration": 289.356521,
   "end_time": "2024-04-25T17:20:14.617839",
   "environment_variables": {},
   "exception": null,
   "input_path": "__notebook__.ipynb",
   "output_path": "__notebook__.ipynb",
   "parameters": {},
   "start_time": "2024-04-25T17:15:25.261318",
   "version": "2.3.3"
  }
 },
 "nbformat": 4,
 "nbformat_minor": 5
}
